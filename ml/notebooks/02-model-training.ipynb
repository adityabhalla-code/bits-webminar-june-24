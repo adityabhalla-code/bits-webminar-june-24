{
 "cells": [
  {
   "cell_type": "markdown",
   "metadata": {},
   "source": [
    "# imports "
   ]
  },
  {
   "cell_type": "code",
   "execution_count": 10,
   "metadata": {
    "tags": []
   },
   "outputs": [
    {
     "name": "stdout",
     "output_type": "stream",
     "text": [
      "Collecting xgboost\n",
      "  Downloading xgboost-2.1.0-py3-none-manylinux_2_28_x86_64.whl.metadata (2.1 kB)\n",
      "Requirement already satisfied: numpy in /opt/conda/lib/python3.10/site-packages (from xgboost) (1.26.4)\n",
      "Collecting nvidia-nccl-cu12 (from xgboost)\n",
      "  Downloading nvidia_nccl_cu12-2.22.3-py3-none-manylinux2014_x86_64.whl.metadata (1.8 kB)\n",
      "Requirement already satisfied: scipy in /opt/conda/lib/python3.10/site-packages (from xgboost) (1.13.0)\n",
      "Downloading xgboost-2.1.0-py3-none-manylinux_2_28_x86_64.whl (153.9 MB)\n",
      "\u001b[2K   \u001b[90m━━━━━━━━━━━━━━━━━━━━━━━━━━━━━━━━━━━━━━━━\u001b[0m \u001b[32m153.9/153.9 MB\u001b[0m \u001b[31m8.0 MB/s\u001b[0m eta \u001b[36m0:00:00\u001b[0m:00:01\u001b[0m00:01\u001b[0m\n",
      "\u001b[?25hDownloading nvidia_nccl_cu12-2.22.3-py3-none-manylinux2014_x86_64.whl (190.9 MB)\n",
      "\u001b[2K   \u001b[90m━━━━━━━━━━━━━━━━━━━━━━━━━━━━━━━━━━━━━━━━\u001b[0m \u001b[32m190.9/190.9 MB\u001b[0m \u001b[31m6.0 MB/s\u001b[0m eta \u001b[36m0:00:00\u001b[0m:00:01\u001b[0m00:01\u001b[0m\n",
      "\u001b[?25hInstalling collected packages: nvidia-nccl-cu12, xgboost\n",
      "Successfully installed nvidia-nccl-cu12-2.22.3 xgboost-2.1.0\n",
      "\u001b[33mWARNING: Running pip as the 'root' user can result in broken permissions and conflicting behaviour with the system package manager. It is recommended to use a virtual environment instead: https://pip.pypa.io/warnings/venv\u001b[0m\u001b[33m\n",
      "\u001b[0m"
     ]
    }
   ],
   "source": [
    "! pip install xgboost"
   ]
  },
  {
   "cell_type": "code",
   "execution_count": 11,
   "metadata": {
    "tags": []
   },
   "outputs": [
    {
     "name": "stdout",
     "output_type": "stream",
     "text": [
      "sagemaker.config INFO - Not applying SDK defaults from location: /etc/xdg/sagemaker/config.yaml\n",
      "sagemaker.config INFO - Not applying SDK defaults from location: /root/.config/sagemaker/config.yaml\n"
     ]
    },
    {
     "data": {
      "text/plain": [
       "'2.215.0'"
      ]
     },
     "execution_count": 11,
     "metadata": {},
     "output_type": "execute_result"
    }
   ],
   "source": [
    "from pathlib import Path\n",
    "import xgboost as xgb\n",
    "import pandas as pd\n",
    "import numpy as np\n",
    "import sagemaker\n",
    "import botocore\n",
    "import joblib\n",
    "import boto3\n",
    "import yaml\n",
    "import json\n",
    "import sys\n",
    "import os\n",
    "from time import gmtime, strftime, sleep\n",
    "from sagemaker.experiments.run import Run, load_run\n",
    "\n",
    "sagemaker.__version__"
   ]
  },
  {
   "cell_type": "code",
   "execution_count": 12,
   "metadata": {
    "tags": []
   },
   "outputs": [
    {
     "name": "stdout",
     "output_type": "stream",
     "text": [
      "{'features': ['dteday', 'season', 'hr', 'holiday', 'weekday', 'workingday', 'weathersit', 'temp', 'atemp', 'hum', 'windspeed', 'casual', 'registered', 'yr', 'mnth'], 'holiday_mappings': {'No': 1, 'Yes': 0}, 'hr_mappings': {'10am': 9, '10pm': 8, '11am': 11, '11pm': 7, '12am': 5, '12pm': 17, '1am': 4, '1pm': 16, '2am': 3, '2pm': 15, '3am': 1, '3pm': 18, '4am': 0, '4pm': 19, '5am': 2, '5pm': 23, '6am': 6, '6pm': 22, '7am': 12, '7pm': 20, '8am': 21, '8pm': 14, '9am': 13, '9pm': 10}, 'mnth_mappings': {'April': 5, 'August': 11, 'December': 2, 'February': 1, 'January': 0, 'July': 10, 'June': 9, 'March': 3, 'May': 7, 'November': 4, 'October': 6, 'September': 8}, 's3-bucket': {'bucket_name': 'sagemaker-us-east-1-644383320443', 'bucket_prefix': 'siemens-poc/', 'training_file_key': 'siemens-poc/bike-sharing-dataset.csv'}, 'sagemaker': {'domain_id': 'd-zjfao8azi0ng', 'region': 'us-east-1', 'role': 'arn:aws:iam::644383320443:role/service-role/AmazonSageMaker-ExecutionRole-20240109T220483'}, 'season_mappings': {'fall': 3, 'spring': 0, 'summer': 2, 'winter': 1}, 'target': 'cnt', 'weathersit_mappings': {'Clear': 3, 'Heavy Rain': 0, 'Light Rain': 1, 'Mist': 2}, 'workingday_mappings': {'No': 0, 'Yes': 1}, 'yr_mappings': {2011: 0, 2012: 1}}\n"
     ]
    }
   ],
   "source": [
    "# import config\n",
    "with open(os.path.abspath(os.path.join(os.pardir,\"config.yml\")),\"r\") as f:\n",
    "    config = yaml.load(f,Loader=yaml.FullLoader)\n",
    "print(config)"
   ]
  },
  {
   "cell_type": "code",
   "execution_count": 13,
   "metadata": {
    "tags": []
   },
   "outputs": [
    {
     "data": {
      "text/plain": [
       "'d-zjfao8azi0ng'"
      ]
     },
     "execution_count": 13,
     "metadata": {},
     "output_type": "execute_result"
    }
   ],
   "source": [
    "config['sagemaker']['domain_id']"
   ]
  },
  {
   "cell_type": "code",
   "execution_count": 14,
   "metadata": {
    "tags": []
   },
   "outputs": [
    {
     "name": "stdout",
     "output_type": "stream",
     "text": [
      "Region--eu-north-1\n",
      "Sagemaker Role--arn:aws:iam::058264393695:role/service-role/AmazonSageMaker-ExecutionRole-20240621T001438\n",
      "Default bucket--sagemaker-eu-north-1-058264393695\n"
     ]
    }
   ],
   "source": [
    "boto_session = boto3.Session()\n",
    "region = boto_session.region_name\n",
    "print(f\"Region--{region}\")\n",
    "sm_role = sagemaker.get_execution_role()\n",
    "print(f\"Sagemaker Role--{sm_role}\")\n",
    "sagemaker_session = sagemaker.Session()\n",
    "default_bucket = sagemaker_session.default_bucket()\n",
    "print(f\"Default bucket--{default_bucket}\")"
   ]
  },
  {
   "cell_type": "markdown",
   "metadata": {},
   "source": [
    "# get data"
   ]
  },
  {
   "cell_type": "code",
   "execution_count": 15,
   "metadata": {
    "tags": []
   },
   "outputs": [
    {
     "name": "stdout",
     "output_type": "stream",
     "text": [
      "bike-sharing-dataset.csv\n"
     ]
    },
    {
     "data": {
      "text/html": [
       "<div>\n",
       "<style scoped>\n",
       "    .dataframe tbody tr th:only-of-type {\n",
       "        vertical-align: middle;\n",
       "    }\n",
       "\n",
       "    .dataframe tbody tr th {\n",
       "        vertical-align: top;\n",
       "    }\n",
       "\n",
       "    .dataframe thead th {\n",
       "        text-align: right;\n",
       "    }\n",
       "</style>\n",
       "<table border=\"1\" class=\"dataframe\">\n",
       "  <thead>\n",
       "    <tr style=\"text-align: right;\">\n",
       "      <th></th>\n",
       "      <th>dteday</th>\n",
       "      <th>season</th>\n",
       "      <th>hr</th>\n",
       "      <th>holiday</th>\n",
       "      <th>weekday</th>\n",
       "      <th>workingday</th>\n",
       "      <th>weathersit</th>\n",
       "      <th>temp</th>\n",
       "      <th>atemp</th>\n",
       "      <th>hum</th>\n",
       "      <th>windspeed</th>\n",
       "      <th>casual</th>\n",
       "      <th>registered</th>\n",
       "      <th>cnt</th>\n",
       "    </tr>\n",
       "  </thead>\n",
       "  <tbody>\n",
       "    <tr>\n",
       "      <th>0</th>\n",
       "      <td>2012-11-05</td>\n",
       "      <td>winter</td>\n",
       "      <td>6am</td>\n",
       "      <td>No</td>\n",
       "      <td>Mon</td>\n",
       "      <td>Yes</td>\n",
       "      <td>Mist</td>\n",
       "      <td>6.10</td>\n",
       "      <td>3.0014</td>\n",
       "      <td>49.0</td>\n",
       "      <td>19.0012</td>\n",
       "      <td>4</td>\n",
       "      <td>135</td>\n",
       "      <td>139</td>\n",
       "    </tr>\n",
       "    <tr>\n",
       "      <th>1</th>\n",
       "      <td>2011-07-13</td>\n",
       "      <td>fall</td>\n",
       "      <td>4am</td>\n",
       "      <td>No</td>\n",
       "      <td>Wed</td>\n",
       "      <td>Yes</td>\n",
       "      <td>Clear</td>\n",
       "      <td>26.78</td>\n",
       "      <td>28.9988</td>\n",
       "      <td>58.0</td>\n",
       "      <td>16.9979</td>\n",
       "      <td>0</td>\n",
       "      <td>5</td>\n",
       "      <td>5</td>\n",
       "    </tr>\n",
       "    <tr>\n",
       "      <th>2</th>\n",
       "      <td>2012-02-09</td>\n",
       "      <td>spring</td>\n",
       "      <td>11am</td>\n",
       "      <td>No</td>\n",
       "      <td>Thu</td>\n",
       "      <td>Yes</td>\n",
       "      <td>Clear</td>\n",
       "      <td>3.28</td>\n",
       "      <td>-0.9982</td>\n",
       "      <td>52.0</td>\n",
       "      <td>15.0013</td>\n",
       "      <td>4</td>\n",
       "      <td>95</td>\n",
       "      <td>99</td>\n",
       "    </tr>\n",
       "  </tbody>\n",
       "</table>\n",
       "</div>"
      ],
      "text/plain": [
       "       dteday  season    hr holiday weekday workingday weathersit   temp  \\\n",
       "0  2012-11-05  winter   6am      No     Mon        Yes       Mist   6.10   \n",
       "1  2011-07-13    fall   4am      No     Wed        Yes      Clear  26.78   \n",
       "2  2012-02-09  spring  11am      No     Thu        Yes      Clear   3.28   \n",
       "\n",
       "     atemp   hum  windspeed  casual  registered  cnt  \n",
       "0   3.0014  49.0    19.0012       4         135  139  \n",
       "1  28.9988  58.0    16.9979       0           5    5  \n",
       "2  -0.9982  52.0    15.0013       4          95   99  "
      ]
     },
     "execution_count": 15,
     "metadata": {},
     "output_type": "execute_result"
    }
   ],
   "source": [
    "import io\n",
    "s3_client = boto3.client(\"s3\")\n",
    "# file_key  = config['s3-bucket']['training_file_key']\n",
    "file_key  = 'bike-sharing-dataset.csv'\n",
    "print(file_key)\n",
    "# response = s3_client.get_object(Bucket=config['s3-bucket']['bucket_name'], Key=file_key)\n",
    "response = s3_client.get_object(Bucket=default_bucket, Key=file_key)\n",
    "\n",
    "file_content = response['Body'].read()\n",
    "df = pd.read_csv(io.BytesIO(file_content), encoding='utf-8')\n",
    "df.head(3)"
   ]
  },
  {
   "cell_type": "code",
   "execution_count": 16,
   "metadata": {
    "tags": []
   },
   "outputs": [
    {
     "name": "stdout",
     "output_type": "stream",
     "text": [
      "/root/bits-webminar-june-24/ml\n"
     ]
    }
   ],
   "source": [
    "import sys\n",
    "root_dir = Path('../scripts').resolve().parents[0] \n",
    "print(root_dir)\n",
    "sys.path.append(str(root_dir))\n"
   ]
  },
  {
   "cell_type": "markdown",
   "metadata": {},
   "source": [
    "# feature engineering"
   ]
  },
  {
   "cell_type": "code",
   "execution_count": 17,
   "metadata": {
    "tags": []
   },
   "outputs": [
    {
     "name": "stdout",
     "output_type": "stream",
     "text": [
      "{'features': ['dteday', 'season', 'hr', 'holiday', 'weekday', 'workingday', 'weathersit', 'temp', 'atemp', 'hum', 'windspeed', 'casual', 'registered', 'yr', 'mnth'], 'holiday_mappings': {'No': 1, 'Yes': 0}, 'hr_mappings': {'10am': 9, '10pm': 8, '11am': 11, '11pm': 7, '12am': 5, '12pm': 17, '1am': 4, '1pm': 16, '2am': 3, '2pm': 15, '3am': 1, '3pm': 18, '4am': 0, '4pm': 19, '5am': 2, '5pm': 23, '6am': 6, '6pm': 22, '7am': 12, '7pm': 20, '8am': 21, '8pm': 14, '9am': 13, '9pm': 10}, 'mnth_mappings': {'April': 5, 'August': 11, 'December': 2, 'February': 1, 'January': 0, 'July': 10, 'June': 9, 'March': 3, 'May': 7, 'November': 4, 'October': 6, 'September': 8}, 's3-bucket': {'bucket_name': 'sagemaker-us-east-1-644383320443', 'bucket_prefix': 'siemens-poc/', 'training_file_key': 'siemens-poc/bike-sharing-dataset.csv'}, 'sagemaker': {'domain_id': 'd-zjfao8azi0ng', 'region': 'us-east-1', 'role': 'arn:aws:iam::644383320443:role/service-role/AmazonSageMaker-ExecutionRole-20240109T220483'}, 'season_mappings': {'fall': 3, 'spring': 0, 'summer': 2, 'winter': 1}, 'target': 'cnt', 'weathersit_mappings': {'Clear': 3, 'Heavy Rain': 0, 'Light Rain': 1, 'Mist': 2}, 'workingday_mappings': {'No': 0, 'Yes': 1}, 'yr_mappings': {2011: 0, 2012: 1}}\n",
      "Added yr and month variables to the dataframe--\n",
      "imputed weekday in dataframe--\n",
      "Number of numerical variables: 4 : ['temp', 'atemp', 'hum', 'windspeed']\n",
      "Number of categorical variables: 8 : ['season', 'hr', 'holiday', 'weekday', 'workingday', 'weathersit', 'yr', 'mnth']\n"
     ]
    },
    {
     "name": "stderr",
     "output_type": "stream",
     "text": [
      "/root/bits-webminar-june-24/ml/scripts/features.py:91: FutureWarning: A value is trying to be set on a copy of a DataFrame or Series through chained assignment using an inplace method.\n",
      "The behavior will change in pandas 3.0. This inplace method will never work because the intermediate object on which we are setting values always behaves as a copy.\n",
      "\n",
      "For example, when doing 'df[col].method(value, inplace=True)', try using 'df.method({col: value}, inplace=True)' or df[col] = df[col].method(value) instead, to perform the operation inplace on the original object.\n",
      "\n",
      "\n",
      "  df['weathersit'].fillna('Clear', inplace=True)\n"
     ]
    },
    {
     "name": "stdout",
     "output_type": "stream",
     "text": [
      "outliers handled in column--temp\n",
      "outliers handled in column--atemp\n",
      "outliers handled in column--hum\n",
      "outliers handled in column--windspeed\n",
      "preprocessing done !\n"
     ]
    },
    {
     "name": "stderr",
     "output_type": "stream",
     "text": [
      "/root/bits-webminar-june-24/ml/scripts/features.py:103: FutureWarning: Downcasting behavior in `replace` is deprecated and will be removed in a future version. To retain the old behavior, explicitly call `result.infer_objects(copy=False)`. To opt-in to the future behavior, set `pd.set_option('future.no_silent_downcasting', True)`\n",
      "  df['hr'] = df['hr'].replace(config['hr_mappings'])\n"
     ]
    }
   ],
   "source": [
    "import scripts.features as features\n",
    "processed_data = features.pre_process(df)\n"
   ]
  },
  {
   "cell_type": "code",
   "execution_count": 18,
   "metadata": {
    "tags": []
   },
   "outputs": [
    {
     "data": {
      "text/html": [
       "<div>\n",
       "<style scoped>\n",
       "    .dataframe tbody tr th:only-of-type {\n",
       "        vertical-align: middle;\n",
       "    }\n",
       "\n",
       "    .dataframe tbody tr th {\n",
       "        vertical-align: top;\n",
       "    }\n",
       "\n",
       "    .dataframe thead th {\n",
       "        text-align: right;\n",
       "    }\n",
       "</style>\n",
       "<table border=\"1\" class=\"dataframe\">\n",
       "  <thead>\n",
       "    <tr style=\"text-align: right;\">\n",
       "      <th></th>\n",
       "      <th>season</th>\n",
       "      <th>hr</th>\n",
       "      <th>holiday</th>\n",
       "      <th>workingday</th>\n",
       "      <th>weathersit</th>\n",
       "      <th>temp</th>\n",
       "      <th>atemp</th>\n",
       "      <th>hum</th>\n",
       "      <th>windspeed</th>\n",
       "      <th>cnt</th>\n",
       "      <th>yr</th>\n",
       "      <th>mnth</th>\n",
       "      <th>weekday_Fri</th>\n",
       "      <th>weekday_Mon</th>\n",
       "      <th>weekday_Sat</th>\n",
       "      <th>weekday_Sun</th>\n",
       "      <th>weekday_Thu</th>\n",
       "      <th>weekday_Tue</th>\n",
       "      <th>weekday_Wed</th>\n",
       "    </tr>\n",
       "  </thead>\n",
       "  <tbody>\n",
       "    <tr>\n",
       "      <th>0</th>\n",
       "      <td>1</td>\n",
       "      <td>6</td>\n",
       "      <td>1</td>\n",
       "      <td>1</td>\n",
       "      <td>2</td>\n",
       "      <td>6.10</td>\n",
       "      <td>3.0014</td>\n",
       "      <td>49.0</td>\n",
       "      <td>19.0012</td>\n",
       "      <td>139</td>\n",
       "      <td>1</td>\n",
       "      <td>4</td>\n",
       "      <td>0.0</td>\n",
       "      <td>1.0</td>\n",
       "      <td>0.0</td>\n",
       "      <td>0.0</td>\n",
       "      <td>0.0</td>\n",
       "      <td>0.0</td>\n",
       "      <td>0.0</td>\n",
       "    </tr>\n",
       "    <tr>\n",
       "      <th>1</th>\n",
       "      <td>3</td>\n",
       "      <td>0</td>\n",
       "      <td>1</td>\n",
       "      <td>1</td>\n",
       "      <td>3</td>\n",
       "      <td>26.78</td>\n",
       "      <td>28.9988</td>\n",
       "      <td>58.0</td>\n",
       "      <td>16.9979</td>\n",
       "      <td>5</td>\n",
       "      <td>0</td>\n",
       "      <td>10</td>\n",
       "      <td>0.0</td>\n",
       "      <td>0.0</td>\n",
       "      <td>0.0</td>\n",
       "      <td>0.0</td>\n",
       "      <td>0.0</td>\n",
       "      <td>0.0</td>\n",
       "      <td>1.0</td>\n",
       "    </tr>\n",
       "    <tr>\n",
       "      <th>2</th>\n",
       "      <td>0</td>\n",
       "      <td>11</td>\n",
       "      <td>1</td>\n",
       "      <td>1</td>\n",
       "      <td>3</td>\n",
       "      <td>3.28</td>\n",
       "      <td>-0.9982</td>\n",
       "      <td>52.0</td>\n",
       "      <td>15.0013</td>\n",
       "      <td>99</td>\n",
       "      <td>1</td>\n",
       "      <td>1</td>\n",
       "      <td>0.0</td>\n",
       "      <td>0.0</td>\n",
       "      <td>0.0</td>\n",
       "      <td>0.0</td>\n",
       "      <td>1.0</td>\n",
       "      <td>0.0</td>\n",
       "      <td>0.0</td>\n",
       "    </tr>\n",
       "    <tr>\n",
       "      <th>3</th>\n",
       "      <td>2</td>\n",
       "      <td>12</td>\n",
       "      <td>1</td>\n",
       "      <td>1</td>\n",
       "      <td>2</td>\n",
       "      <td>14.56</td>\n",
       "      <td>15.0002</td>\n",
       "      <td>100.0</td>\n",
       "      <td>6.0032</td>\n",
       "      <td>361</td>\n",
       "      <td>1</td>\n",
       "      <td>3</td>\n",
       "      <td>0.0</td>\n",
       "      <td>0.0</td>\n",
       "      <td>0.0</td>\n",
       "      <td>0.0</td>\n",
       "      <td>1.0</td>\n",
       "      <td>0.0</td>\n",
       "      <td>0.0</td>\n",
       "    </tr>\n",
       "    <tr>\n",
       "      <th>4</th>\n",
       "      <td>1</td>\n",
       "      <td>17</td>\n",
       "      <td>1</td>\n",
       "      <td>1</td>\n",
       "      <td>3</td>\n",
       "      <td>16.44</td>\n",
       "      <td>17.0000</td>\n",
       "      <td>52.0</td>\n",
       "      <td>8.9981</td>\n",
       "      <td>203</td>\n",
       "      <td>0</td>\n",
       "      <td>4</td>\n",
       "      <td>0.0</td>\n",
       "      <td>0.0</td>\n",
       "      <td>0.0</td>\n",
       "      <td>0.0</td>\n",
       "      <td>0.0</td>\n",
       "      <td>1.0</td>\n",
       "      <td>0.0</td>\n",
       "    </tr>\n",
       "    <tr>\n",
       "      <th>...</th>\n",
       "      <td>...</td>\n",
       "      <td>...</td>\n",
       "      <td>...</td>\n",
       "      <td>...</td>\n",
       "      <td>...</td>\n",
       "      <td>...</td>\n",
       "      <td>...</td>\n",
       "      <td>...</td>\n",
       "      <td>...</td>\n",
       "      <td>...</td>\n",
       "      <td>...</td>\n",
       "      <td>...</td>\n",
       "      <td>...</td>\n",
       "      <td>...</td>\n",
       "      <td>...</td>\n",
       "      <td>...</td>\n",
       "      <td>...</td>\n",
       "      <td>...</td>\n",
       "      <td>...</td>\n",
       "    </tr>\n",
       "    <tr>\n",
       "      <th>17374</th>\n",
       "      <td>2</td>\n",
       "      <td>16</td>\n",
       "      <td>1</td>\n",
       "      <td>1</td>\n",
       "      <td>3</td>\n",
       "      <td>28.66</td>\n",
       "      <td>30.0020</td>\n",
       "      <td>46.0</td>\n",
       "      <td>16.9979</td>\n",
       "      <td>190</td>\n",
       "      <td>0</td>\n",
       "      <td>7</td>\n",
       "      <td>0.0</td>\n",
       "      <td>0.0</td>\n",
       "      <td>0.0</td>\n",
       "      <td>0.0</td>\n",
       "      <td>0.0</td>\n",
       "      <td>1.0</td>\n",
       "      <td>0.0</td>\n",
       "    </tr>\n",
       "    <tr>\n",
       "      <th>17375</th>\n",
       "      <td>2</td>\n",
       "      <td>10</td>\n",
       "      <td>1</td>\n",
       "      <td>1</td>\n",
       "      <td>3</td>\n",
       "      <td>16.44</td>\n",
       "      <td>17.0000</td>\n",
       "      <td>55.0</td>\n",
       "      <td>7.0015</td>\n",
       "      <td>267</td>\n",
       "      <td>1</td>\n",
       "      <td>5</td>\n",
       "      <td>0.0</td>\n",
       "      <td>0.0</td>\n",
       "      <td>0.0</td>\n",
       "      <td>0.0</td>\n",
       "      <td>1.0</td>\n",
       "      <td>0.0</td>\n",
       "      <td>0.0</td>\n",
       "    </tr>\n",
       "    <tr>\n",
       "      <th>17376</th>\n",
       "      <td>0</td>\n",
       "      <td>7</td>\n",
       "      <td>1</td>\n",
       "      <td>1</td>\n",
       "      <td>3</td>\n",
       "      <td>7.04</td>\n",
       "      <td>7.0010</td>\n",
       "      <td>76.0</td>\n",
       "      <td>0.0000</td>\n",
       "      <td>99</td>\n",
       "      <td>1</td>\n",
       "      <td>0</td>\n",
       "      <td>0.0</td>\n",
       "      <td>0.0</td>\n",
       "      <td>0.0</td>\n",
       "      <td>0.0</td>\n",
       "      <td>0.0</td>\n",
       "      <td>1.0</td>\n",
       "      <td>0.0</td>\n",
       "    </tr>\n",
       "    <tr>\n",
       "      <th>17377</th>\n",
       "      <td>0</td>\n",
       "      <td>4</td>\n",
       "      <td>1</td>\n",
       "      <td>0</td>\n",
       "      <td>2</td>\n",
       "      <td>-6.12</td>\n",
       "      <td>-16.0000</td>\n",
       "      <td>41.0</td>\n",
       "      <td>26.0027</td>\n",
       "      <td>12</td>\n",
       "      <td>0</td>\n",
       "      <td>0</td>\n",
       "      <td>0.0</td>\n",
       "      <td>0.0</td>\n",
       "      <td>1.0</td>\n",
       "      <td>0.0</td>\n",
       "      <td>0.0</td>\n",
       "      <td>0.0</td>\n",
       "      <td>0.0</td>\n",
       "    </tr>\n",
       "    <tr>\n",
       "      <th>17378</th>\n",
       "      <td>0</td>\n",
       "      <td>16</td>\n",
       "      <td>1</td>\n",
       "      <td>0</td>\n",
       "      <td>3</td>\n",
       "      <td>6.10</td>\n",
       "      <td>3.9980</td>\n",
       "      <td>49.0</td>\n",
       "      <td>11.0014</td>\n",
       "      <td>261</td>\n",
       "      <td>1</td>\n",
       "      <td>1</td>\n",
       "      <td>0.0</td>\n",
       "      <td>0.0</td>\n",
       "      <td>0.0</td>\n",
       "      <td>1.0</td>\n",
       "      <td>0.0</td>\n",
       "      <td>0.0</td>\n",
       "      <td>0.0</td>\n",
       "    </tr>\n",
       "  </tbody>\n",
       "</table>\n",
       "<p>17379 rows × 19 columns</p>\n",
       "</div>"
      ],
      "text/plain": [
       "       season  hr  holiday  workingday  weathersit   temp    atemp    hum  \\\n",
       "0           1   6        1           1           2   6.10   3.0014   49.0   \n",
       "1           3   0        1           1           3  26.78  28.9988   58.0   \n",
       "2           0  11        1           1           3   3.28  -0.9982   52.0   \n",
       "3           2  12        1           1           2  14.56  15.0002  100.0   \n",
       "4           1  17        1           1           3  16.44  17.0000   52.0   \n",
       "...       ...  ..      ...         ...         ...    ...      ...    ...   \n",
       "17374       2  16        1           1           3  28.66  30.0020   46.0   \n",
       "17375       2  10        1           1           3  16.44  17.0000   55.0   \n",
       "17376       0   7        1           1           3   7.04   7.0010   76.0   \n",
       "17377       0   4        1           0           2  -6.12 -16.0000   41.0   \n",
       "17378       0  16        1           0           3   6.10   3.9980   49.0   \n",
       "\n",
       "       windspeed  cnt  yr  mnth  weekday_Fri  weekday_Mon  weekday_Sat  \\\n",
       "0        19.0012  139   1     4          0.0          1.0          0.0   \n",
       "1        16.9979    5   0    10          0.0          0.0          0.0   \n",
       "2        15.0013   99   1     1          0.0          0.0          0.0   \n",
       "3         6.0032  361   1     3          0.0          0.0          0.0   \n",
       "4         8.9981  203   0     4          0.0          0.0          0.0   \n",
       "...          ...  ...  ..   ...          ...          ...          ...   \n",
       "17374    16.9979  190   0     7          0.0          0.0          0.0   \n",
       "17375     7.0015  267   1     5          0.0          0.0          0.0   \n",
       "17376     0.0000   99   1     0          0.0          0.0          0.0   \n",
       "17377    26.0027   12   0     0          0.0          0.0          1.0   \n",
       "17378    11.0014  261   1     1          0.0          0.0          0.0   \n",
       "\n",
       "       weekday_Sun  weekday_Thu  weekday_Tue  weekday_Wed  \n",
       "0              0.0          0.0          0.0          0.0  \n",
       "1              0.0          0.0          0.0          1.0  \n",
       "2              0.0          1.0          0.0          0.0  \n",
       "3              0.0          1.0          0.0          0.0  \n",
       "4              0.0          0.0          1.0          0.0  \n",
       "...            ...          ...          ...          ...  \n",
       "17374          0.0          0.0          1.0          0.0  \n",
       "17375          0.0          1.0          0.0          0.0  \n",
       "17376          0.0          0.0          1.0          0.0  \n",
       "17377          0.0          0.0          0.0          0.0  \n",
       "17378          1.0          0.0          0.0          0.0  \n",
       "\n",
       "[17379 rows x 19 columns]"
      ]
     },
     "execution_count": 18,
     "metadata": {},
     "output_type": "execute_result"
    }
   ],
   "source": [
    "processed_data"
   ]
  },
  {
   "cell_type": "markdown",
   "metadata": {},
   "source": [
    "# create a sagemaker experiment "
   ]
  },
  {
   "cell_type": "code",
   "execution_count": 19,
   "metadata": {
    "tags": []
   },
   "outputs": [],
   "source": [
    "from datetime import datetime, timedelta\n",
    "def utc_to_ist(utc_dt):\n",
    "    return utc_dt + timedelta(hours=5, minutes=30)\n",
    "\n",
    "def get_current_ist():\n",
    "    current_utc_time = datetime.utcnow()\n",
    "    current_ist_time = utc_to_ist(current_utc_time)\n",
    "    return current_ist_time"
   ]
  },
  {
   "cell_type": "code",
   "execution_count": 20,
   "metadata": {
    "tags": []
   },
   "outputs": [
    {
     "data": {
      "text/plain": [
       "'bits-webminar-june-24-21-06-2024-15-11-46'"
      ]
     },
     "execution_count": 20,
     "metadata": {},
     "output_type": "execute_result"
    }
   ],
   "source": [
    "current_ist_time = get_current_ist()\n",
    "experiment_name = current_ist_time.strftime(\"bits-webminar-june-24-%d-%m-%Y-%H-%M-%S\")\n",
    "experiment_name"
   ]
  },
  {
   "cell_type": "markdown",
   "metadata": {},
   "source": [
    "# split data --once"
   ]
  },
  {
   "cell_type": "code",
   "execution_count": 21,
   "metadata": {
    "tags": []
   },
   "outputs": [
    {
     "name": "stdout",
     "output_type": "stream",
     "text": [
      "Data split > train:(12165, 19) | validation:(3476, 19) | test:(1738, 19)\n"
     ]
    },
    {
     "name": "stderr",
     "output_type": "stream",
     "text": [
      "/opt/conda/lib/python3.10/site-packages/numpy/core/fromnumeric.py:59: FutureWarning: 'DataFrame.swapaxes' is deprecated and will be removed in a future version. Please use 'DataFrame.transpose' instead.\n",
      "  return bound(*args, **kwds)\n"
     ]
    }
   ],
   "source": [
    "# Shuffle and splitting dataset\n",
    "train_data, validation_data, test_data = np.split(\n",
    "    processed_data.sample(frac=1, random_state=1729),\n",
    "    [int(0.7 * len(processed_data)), int(0.9 * len(processed_data))],\n",
    ")\n",
    "\n",
    "print(f\"Data split > train:{train_data.shape} | validation:{validation_data.shape} | test:{test_data.shape}\")"
   ]
  },
  {
   "cell_type": "code",
   "execution_count": 22,
   "metadata": {
    "tags": []
   },
   "outputs": [],
   "source": [
    "def upload_file_to_s3(df,file_key):\n",
    "    # Convert DF to csv buffer\n",
    "    csv_buffer = io.StringIO()\n",
    "    df.to_csv(csv_buffer)\n",
    "    # S3 bucket details\n",
    "    # BUCKET_NAME = config['s3-bucket']['bucket_name']\n",
    "    BUCKET_NAME  = default_bucket\n",
    "    # PREFIX = config['s3-bucket']['bucket_prefix'] \n",
    "    PREFIX = 'bits-webminar-june-24/'\n",
    "    KEY = f\"{PREFIX}{file_key}\"\n",
    "    try:\n",
    "        s3_client.put_object(\n",
    "            Body=csv_buffer.getvalue(), \n",
    "            Bucket = BUCKET_NAME, \n",
    "            Key = KEY,\n",
    "        )\n",
    "        print(\"Upload Successful\")\n",
    "    except FileNotFoundError:  \n",
    "        print(\"The file was not found\")\n",
    "    except botocore.exceptions.ClientError as error:\n",
    "        if error.response['Error']['Code'] == \"404\":\n",
    "            print(\"The object does not exist\")\n",
    "        else:\n",
    "            raise"
   ]
  },
  {
   "cell_type": "code",
   "execution_count": 23,
   "metadata": {
    "tags": []
   },
   "outputs": [
    {
     "name": "stdout",
     "output_type": "stream",
     "text": [
      "Upload Successful\n",
      "Upload Successful\n",
      "Upload Successful\n"
     ]
    }
   ],
   "source": [
    "upload_file_to_s3(train_data,'train_data.csv')\n",
    "upload_file_to_s3(validation_data,'validation_data.csv')\n",
    "upload_file_to_s3(test_data,'test_data.csv')"
   ]
  },
  {
   "cell_type": "markdown",
   "metadata": {},
   "source": [
    "# get data from s3 "
   ]
  },
  {
   "cell_type": "code",
   "execution_count": 24,
   "metadata": {
    "tags": []
   },
   "outputs": [],
   "source": [
    "def get_data_from_s3_as_df(file_key):\n",
    "    BUCKET_NAME  = default_bucket\n",
    "    # BUCKET_NAME = config['s3-bucket']['bucket_name']\n",
    "    # PREFIX = config['s3-bucket']['bucket_prefix']\n",
    "    PREFIX = 'bits-webminar-june-24/'\n",
    "    KEY = f'{PREFIX}{file_key}'\n",
    "    print(f\"downloadig..{KEY}\")\n",
    "    response = s3_client.get_object(Bucket=BUCKET_NAME, Key=KEY)\n",
    "    file_content = response['Body'].read()\n",
    "    df = pd.read_csv(io.BytesIO(file_content), encoding='utf-8')\n",
    "    return df "
   ]
  },
  {
   "cell_type": "code",
   "execution_count": 25,
   "metadata": {
    "tags": []
   },
   "outputs": [
    {
     "name": "stdout",
     "output_type": "stream",
     "text": [
      "downloadig..bits-webminar-june-24/train_data.csv\n",
      "downloadig..bits-webminar-june-24/test_data.csv\n",
      "downloadig..bits-webminar-june-24/validation_data.csv\n"
     ]
    }
   ],
   "source": [
    "train_data = get_data_from_s3_as_df('train_data.csv')\n",
    "test_data  = get_data_from_s3_as_df('test_data.csv')\n",
    "validation_data = get_data_from_s3_as_df('validation_data.csv')"
   ]
  },
  {
   "cell_type": "code",
   "execution_count": 26,
   "metadata": {
    "tags": []
   },
   "outputs": [],
   "source": [
    "train_data.drop(['Unnamed: 0'],axis=1 , inplace=True)\n",
    "test_data.drop(['Unnamed: 0'],axis=1 , inplace=True)\n",
    "validation_data.drop(['Unnamed: 0'],axis=1 , inplace=True)"
   ]
  },
  {
   "cell_type": "markdown",
   "metadata": {},
   "source": [
    "# model training and validation"
   ]
  },
  {
   "cell_type": "code",
   "execution_count": 27,
   "metadata": {
    "tags": []
   },
   "outputs": [
    {
     "data": {
      "text/plain": [
       "'cnt'"
      ]
     },
     "execution_count": 27,
     "metadata": {},
     "output_type": "execute_result"
    }
   ],
   "source": [
    "target_col = config['target']\n",
    "target_col"
   ]
  },
  {
   "cell_type": "code",
   "execution_count": 28,
   "metadata": {
    "tags": []
   },
   "outputs": [],
   "source": [
    "train_features = train_data.drop(target_col, axis=1)\n",
    "train_label = pd.DataFrame(train_data[target_col])"
   ]
  },
  {
   "cell_type": "code",
   "execution_count": 29,
   "metadata": {
    "tags": []
   },
   "outputs": [],
   "source": [
    "dtrain = xgb.DMatrix(train_features, label=train_label)"
   ]
  },
  {
   "cell_type": "code",
   "execution_count": 30,
   "metadata": {
    "tags": []
   },
   "outputs": [],
   "source": [
    "# Set hyperparameters for regression\n",
    "hyperparams = {\n",
    "    \"max_depth\": 5,\n",
    "    \"eta\": 0.5,\n",
    "    \"alpha\": 2.5,\n",
    "    \"objective\": \"reg:squarederror\",  # objective regression\n",
    "    \"subsample\": 0.8,\n",
    "    \"colsample_bytree\": 0.8,\n",
    "    \"min_child_weight\": 3\n",
    "}\n",
    "\n",
    "num_boost_round = 150\n",
    "nfold = 3\n",
    "early_stopping_rounds = 10"
   ]
  },
  {
   "cell_type": "code",
   "execution_count": 31,
   "metadata": {
    "tags": []
   },
   "outputs": [],
   "source": [
    "# Cross-validate on training data\n",
    "cv_results = xgb.cv(\n",
    "    params=hyperparams,\n",
    "    dtrain=dtrain,\n",
    "    num_boost_round=num_boost_round,\n",
    "    nfold=nfold,\n",
    "    early_stopping_rounds=early_stopping_rounds,\n",
    "    metrics=[\"rmse\"],  #  regression metrics RMSE\n",
    "    seed=10,\n",
    ")"
   ]
  },
  {
   "cell_type": "code",
   "execution_count": 32,
   "metadata": {
    "tags": []
   },
   "outputs": [
    {
     "data": {
      "text/html": [
       "<div>\n",
       "<style scoped>\n",
       "    .dataframe tbody tr th:only-of-type {\n",
       "        vertical-align: middle;\n",
       "    }\n",
       "\n",
       "    .dataframe tbody tr th {\n",
       "        vertical-align: top;\n",
       "    }\n",
       "\n",
       "    .dataframe thead th {\n",
       "        text-align: right;\n",
       "    }\n",
       "</style>\n",
       "<table border=\"1\" class=\"dataframe\">\n",
       "  <thead>\n",
       "    <tr style=\"text-align: right;\">\n",
       "      <th></th>\n",
       "      <th>train-rmse-mean</th>\n",
       "      <th>train-rmse-std</th>\n",
       "      <th>test-rmse-mean</th>\n",
       "      <th>test-rmse-std</th>\n",
       "    </tr>\n",
       "  </thead>\n",
       "  <tbody>\n",
       "    <tr>\n",
       "      <th>0</th>\n",
       "      <td>120.504197</td>\n",
       "      <td>0.750735</td>\n",
       "      <td>120.848114</td>\n",
       "      <td>2.850320</td>\n",
       "    </tr>\n",
       "    <tr>\n",
       "      <th>1</th>\n",
       "      <td>94.493532</td>\n",
       "      <td>1.096985</td>\n",
       "      <td>95.689022</td>\n",
       "      <td>1.755282</td>\n",
       "    </tr>\n",
       "    <tr>\n",
       "      <th>2</th>\n",
       "      <td>77.663184</td>\n",
       "      <td>1.449386</td>\n",
       "      <td>79.103399</td>\n",
       "      <td>1.139138</td>\n",
       "    </tr>\n",
       "    <tr>\n",
       "      <th>3</th>\n",
       "      <td>70.077897</td>\n",
       "      <td>3.228265</td>\n",
       "      <td>72.151113</td>\n",
       "      <td>1.000079</td>\n",
       "    </tr>\n",
       "    <tr>\n",
       "      <th>4</th>\n",
       "      <td>66.586185</td>\n",
       "      <td>2.727556</td>\n",
       "      <td>69.273152</td>\n",
       "      <td>0.783282</td>\n",
       "    </tr>\n",
       "    <tr>\n",
       "      <th>...</th>\n",
       "      <td>...</td>\n",
       "      <td>...</td>\n",
       "      <td>...</td>\n",
       "      <td>...</td>\n",
       "    </tr>\n",
       "    <tr>\n",
       "      <th>89</th>\n",
       "      <td>30.473819</td>\n",
       "      <td>0.345281</td>\n",
       "      <td>49.303373</td>\n",
       "      <td>2.321872</td>\n",
       "    </tr>\n",
       "    <tr>\n",
       "      <th>90</th>\n",
       "      <td>30.352134</td>\n",
       "      <td>0.341902</td>\n",
       "      <td>49.321654</td>\n",
       "      <td>2.277451</td>\n",
       "    </tr>\n",
       "    <tr>\n",
       "      <th>91</th>\n",
       "      <td>30.242774</td>\n",
       "      <td>0.349389</td>\n",
       "      <td>49.323105</td>\n",
       "      <td>2.244441</td>\n",
       "    </tr>\n",
       "    <tr>\n",
       "      <th>92</th>\n",
       "      <td>30.126877</td>\n",
       "      <td>0.362138</td>\n",
       "      <td>49.298256</td>\n",
       "      <td>2.216559</td>\n",
       "    </tr>\n",
       "    <tr>\n",
       "      <th>93</th>\n",
       "      <td>30.001116</td>\n",
       "      <td>0.352861</td>\n",
       "      <td>49.287736</td>\n",
       "      <td>2.210011</td>\n",
       "    </tr>\n",
       "  </tbody>\n",
       "</table>\n",
       "<p>94 rows × 4 columns</p>\n",
       "</div>"
      ],
      "text/plain": [
       "    train-rmse-mean  train-rmse-std  test-rmse-mean  test-rmse-std\n",
       "0        120.504197        0.750735      120.848114       2.850320\n",
       "1         94.493532        1.096985       95.689022       1.755282\n",
       "2         77.663184        1.449386       79.103399       1.139138\n",
       "3         70.077897        3.228265       72.151113       1.000079\n",
       "4         66.586185        2.727556       69.273152       0.783282\n",
       "..              ...             ...             ...            ...\n",
       "89        30.473819        0.345281       49.303373       2.321872\n",
       "90        30.352134        0.341902       49.321654       2.277451\n",
       "91        30.242774        0.349389       49.323105       2.244441\n",
       "92        30.126877        0.362138       49.298256       2.216559\n",
       "93        30.001116        0.352861       49.287736       2.210011\n",
       "\n",
       "[94 rows x 4 columns]"
      ]
     },
     "execution_count": 32,
     "metadata": {},
     "output_type": "execute_result"
    }
   ],
   "source": [
    "cv_results"
   ]
  },
  {
   "cell_type": "code",
   "execution_count": 33,
   "metadata": {
    "tags": []
   },
   "outputs": [],
   "source": [
    "# metrics data\n",
    "metrics_data = {\n",
    "    \"regression_metrics\": {\n",
    "        \"validation:rmse\": {\n",
    "            \"value\": cv_results.iloc[-1][\"test-rmse-mean\"],\n",
    "            \"standard_deviation\": cv_results.iloc[-1][\"test-rmse-std\"]\n",
    "        },\n",
    "        \"train:rmse\": {\n",
    "\"value\": cv_results.iloc[-1][\"train-rmse-mean\"],\n",
    "\"standard_deviation\": cv_results.iloc[-1][\"train-rmse-std\"]\n",
    "        },\n",
    "    }\n",
    "}"
   ]
  },
  {
   "cell_type": "code",
   "execution_count": 34,
   "metadata": {
    "tags": []
   },
   "outputs": [
    {
     "name": "stdout",
     "output_type": "stream",
     "text": [
      "Cross-validated train-rmse:30.00\n",
      "Cross-validated validation-rmse:49.29\n"
     ]
    }
   ],
   "source": [
    "print(f\"Cross-validated train-rmse:{cv_results.iloc[-1]['train-rmse-mean']:.2f}\")\n",
    "print(f\"Cross-validated validation-rmse:{cv_results.iloc[-1]['test-rmse-mean']:.2f}\")"
   ]
  },
  {
   "cell_type": "markdown",
   "metadata": {},
   "source": [
    "# training model on whole dataset"
   ]
  },
  {
   "cell_type": "code",
   "execution_count": 35,
   "metadata": {
    "tags": []
   },
   "outputs": [],
   "source": [
    "test_features = test_data.drop(target_col, axis=1)\n",
    "test_label = pd.DataFrame(test_data[target_col])\n",
    "dtest = xgb.DMatrix(test_features, label=test_label)"
   ]
  },
  {
   "cell_type": "markdown",
   "metadata": {},
   "source": [
    "# create a Run"
   ]
  },
  {
   "cell_type": "code",
   "execution_count": 36,
   "metadata": {
    "tags": []
   },
   "outputs": [
    {
     "data": {
      "text/plain": [
       "datetime.datetime(2024, 6, 21, 15, 12, 33, 513384)"
      ]
     },
     "execution_count": 36,
     "metadata": {},
     "output_type": "execute_result"
    }
   ],
   "source": [
    "current_ist_time = get_current_ist()\n",
    "current_ist_time"
   ]
  },
  {
   "cell_type": "code",
   "execution_count": 37,
   "metadata": {
    "tags": []
   },
   "outputs": [
    {
     "data": {
      "text/plain": [
       "'21-06-2024-15-12-33'"
      ]
     },
     "execution_count": 37,
     "metadata": {},
     "output_type": "execute_result"
    }
   ],
   "source": [
    "run_suffix = current_ist_time.strftime(\"%d-%m-%Y-%H-%M-%S\")\n",
    "run_suffix"
   ]
  },
  {
   "cell_type": "code",
   "execution_count": 38,
   "metadata": {
    "tags": []
   },
   "outputs": [],
   "source": [
    "sagemaker_session = sagemaker.Session()\n",
    "sm_client = sagemaker_session.sagemaker_client"
   ]
  },
  {
   "cell_type": "code",
   "execution_count": 39,
   "metadata": {
    "tags": []
   },
   "outputs": [
    {
     "name": "stdout",
     "output_type": "stream",
     "text": [
      "s3://sagemaker-eu-north-1-058264393695/bike-sharing-dataset.csv\n",
      "s3://sagemaker-eu-north-1-058264393695/bits-webminar-june-24/test_data.csv\n",
      "s3://sagemaker-eu-north-1-058264393695/bits-webminar-june-24/train_data.csv\n",
      "s3://sagemaker-eu-north-1-058264393695/bits-webminar-june-24/validation_data.csv\n"
     ]
    }
   ],
   "source": [
    "# get file paths from s3 to log in the run \n",
    "\n",
    "objects = s3_client.list_objects_v2(Bucket=default_bucket)\n",
    "for obj in objects.get('Contents', []):\n",
    "    # print(obj)\n",
    "    file_key = obj['Key']\n",
    "    # print(file_key)\n",
    "    if file_key == \"bits-webminar-june-24/\":\n",
    "        continue\n",
    "    else:\n",
    "        s3_file_path = f\"s3://{default_bucket}/{file_key}\"\n",
    "        print(s3_file_path)\n"
   ]
  },
  {
   "cell_type": "code",
   "execution_count": 40,
   "metadata": {
    "tags": []
   },
   "outputs": [],
   "source": [
    "\n",
    "with Run(experiment_name=experiment_name,\n",
    "         run_name=f\"feature-engineering-{run_suffix}\",\n",
    "         run_display_name=\"feature-engineering\",\n",
    "         sagemaker_session=sagemaker_session) as run:\n",
    "    run.log_parameters(\n",
    "        {\n",
    "            \"train\": 0.7,\n",
    "            \"validate\": 0.2,\n",
    "            \"test\": 0.1\n",
    "        }\n",
    "    )\n",
    "    # Log input dataset metadata and output\n",
    "    # Log files from S3\n",
    "    run.log_artifact(name='bike-share-dataset',value='s3://sagemaker-eu-north-1-058264393695/bike-sharing-dataset.csv', media_type=\"text/csv\")\n",
    "    run.log_artifact(name= 'train-csv',value='s3://sagemaker-eu-north-1-058264393695/bits-webminar-june-24/train_data.csv', media_type=\"text/csv\")\n",
    "    run.log_artifact(name = 'test-csv',value='s3://sagemaker-eu-north-1-058264393695/bits-webminar-june-24/test_data.csv', media_type=\"text/csv\")\n",
    "    run.log_artifact(name = 'validation-csv',value='s3://sagemaker-eu-north-1-058264393695/bits-webminar-june-24/validation_data.csv', media_type=\"text/plain\")\n"
   ]
  },
  {
   "cell_type": "code",
   "execution_count": 41,
   "metadata": {
    "tags": []
   },
   "outputs": [
    {
     "name": "stdout",
     "output_type": "stream",
     "text": [
      "run_suffix--21-06-2024-15-12-33\n",
      "Fit estimator with max_depth=2\n",
      "Test RMSE: 68.7122 | Train RMSE: 65.8448\n",
      "Fit estimator with max_depth=5\n",
      "Test RMSE: 48.1565 | Train RMSE: 31.3636\n",
      "Fit estimator with max_depth=10\n",
      "Test RMSE: 47.8771 | Train RMSE: 10.3588\n",
      "Fit estimator with max_depth=15\n",
      "Test RMSE: 51.2740 | Train RMSE: 4.3770\n",
      "Fit estimator with max_depth=20\n",
      "Test RMSE: 51.2339 | Train RMSE: 3.2813\n"
     ]
    }
   ],
   "source": [
    "from sklearn.metrics import mean_squared_error\n",
    "\n",
    "print(f\"run_suffix--{run_suffix}\")\n",
    "\n",
    "# Train the model for different max_depth values\n",
    "for i, d in enumerate([2, 5, 10, 15, 20]):\n",
    "    hyperparams[\"max_depth\"] = d\n",
    "    \n",
    "    print(f\"Fit estimator with max_depth={d}\")\n",
    "    run_name = f\"training-{i}-{run_suffix}\"\n",
    "    \n",
    "    with Run(experiment_name=experiment_name,\n",
    "             run_name=run_name,\n",
    "             run_display_name=f\"max-depth-{d}\",\n",
    "             sagemaker_session=sagemaker_session) as run:\n",
    "        # Train the model\n",
    "        model = (\n",
    "            xgb.train(\n",
    "                params=hyperparams, \n",
    "                dtrain=dtrain, \n",
    "                evals = [(dtrain,'train'), (dtest,'eval')], \n",
    "                num_boost_round=num_boost_round, \n",
    "                early_stopping_rounds=early_stopping_rounds, \n",
    "                verbose_eval = 0\n",
    "            )\n",
    "        )\n",
    "        # Calculate regression metrics \n",
    "        test_rmse = np.sqrt(mean_squared_error(test_label, model.predict(dtest)))\n",
    "        train_rmse = np.sqrt(mean_squared_error(train_label, model.predict(dtrain)))\n",
    "        \n",
    "        # Log metrics to the run\n",
    "        run.log_parameters(hyperparams)\n",
    "        run.log_metric(name=\"test_rmse\", value = test_rmse, step=d)\n",
    "        run.log_metric(name=\"train_rmse\", value = train_rmse, step=d)\n",
    "\n",
    "        # time.sleep(8) # wait until resource tags are propagated to the run\n",
    "        print(f\"Test RMSE: {test_rmse:.4f} | Train RMSE: {train_rmse:.4f}\")\n",
    "        "
   ]
  },
  {
   "cell_type": "markdown",
   "metadata": {},
   "source": [
    "# delete a sagemaker experiment "
   ]
  },
  {
   "cell_type": "code",
   "execution_count": 2,
   "metadata": {
    "tags": []
   },
   "outputs": [],
   "source": [
    "import boto3\n",
    "sagemaker = boto3.client('sagemaker')"
   ]
  },
  {
   "cell_type": "code",
   "execution_count": 8,
   "metadata": {
    "tags": []
   },
   "outputs": [
    {
     "name": "stdout",
     "output_type": "stream",
     "text": [
      "Deleting trials for experiment: bits-webminar-poc-21-06-2024-12-24-33\n",
      "Disassociating trial components for trial: Default-Run-Group-bits-webminar-poc-21-06-2024-12-24-33\n",
      "Disassociating trial component: arn:aws:sagemaker:eu-north-1:058264393695:experiment-trial-component/bits-webminar-poc-21-06-2024-12-24-33-training-4-21-06-2024-12-32-00 from trial: Default-Run-Group-bits-webminar-poc-21-06-2024-12-24-33\n",
      "Disassociating trial component: arn:aws:sagemaker:eu-north-1:058264393695:experiment-trial-component/bits-webminar-poc-21-06-2024-12-24-33-training-3-21-06-2024-12-32-00 from trial: Default-Run-Group-bits-webminar-poc-21-06-2024-12-24-33\n",
      "Disassociating trial component: arn:aws:sagemaker:eu-north-1:058264393695:experiment-trial-component/bits-webminar-poc-21-06-2024-12-24-33-training-2-21-06-2024-12-32-00 from trial: Default-Run-Group-bits-webminar-poc-21-06-2024-12-24-33\n",
      "Disassociating trial component: arn:aws:sagemaker:eu-north-1:058264393695:experiment-trial-component/bits-webminar-poc-21-06-2024-12-24-33-training-1-21-06-2024-12-32-00 from trial: Default-Run-Group-bits-webminar-poc-21-06-2024-12-24-33\n",
      "Disassociating trial component: arn:aws:sagemaker:eu-north-1:058264393695:experiment-trial-component/bits-webminar-poc-21-06-2024-12-24-33-training-0-21-06-2024-12-32-00 from trial: Default-Run-Group-bits-webminar-poc-21-06-2024-12-24-33\n",
      "Disassociating trial component: arn:aws:sagemaker:eu-north-1:058264393695:experiment-trial-component/bits-webminar-poc-21-06-2024-12-24-33-feature-engineering-21-06-2024-12-32-00 from trial: Default-Run-Group-bits-webminar-poc-21-06-2024-12-24-33\n",
      "Deleting trial components for trial: Default-Run-Group-bits-webminar-poc-21-06-2024-12-24-33\n",
      "Deleting trial: Default-Run-Group-bits-webminar-poc-21-06-2024-12-24-33\n",
      "Deleting experiment: bits-webminar-poc-21-06-2024-12-24-33\n",
      "Experiment bits-webminar-poc-21-06-2024-12-24-33 deleted successfully.\n"
     ]
    }
   ],
   "source": [
    "\n",
    "\n",
    "def disassociate_trial_components(trial_name):\n",
    "    # List trial components associated with the trial\n",
    "    response = sagemaker.list_trial_components(TrialName=trial_name)\n",
    "    trial_components = response['TrialComponentSummaries']\n",
    "\n",
    "    # Disassociate each trial component from the trial\n",
    "    for component in trial_components:\n",
    "        component_arn = component['TrialComponentArn']\n",
    "        print(f\"Disassociating trial component: {component_arn} from trial: {trial_name}\")\n",
    "        sagemaker.disassociate_trial_component(\n",
    "            TrialComponentName=component['TrialComponentName'],\n",
    "            TrialName=trial_name\n",
    "        )\n",
    "\n",
    "def delete_trial_components(trial_name):\n",
    "    # List trial components associated with the trial\n",
    "    response = sagemaker.list_trial_components(TrialName=trial_name)\n",
    "    trial_components = response['TrialComponentSummaries']\n",
    "\n",
    "    # Delete each trial component\n",
    "    for component in trial_components:\n",
    "        component_name = component['TrialComponentName']\n",
    "        print(f\"Deleting trial component: {component_name}\")\n",
    "        sagemaker.delete_trial_component(TrialComponentName=component_name)\n",
    "\n",
    "def delete_trials(experiment_name):\n",
    "    # List trials in the experiment\n",
    "    trials_response = sagemaker.list_trials(ExperimentName=experiment_name)\n",
    "    trials = trials_response['TrialSummaries']\n",
    "\n",
    "    # Delete each trial\n",
    "    for trial in trials:\n",
    "        trial_name = trial['TrialName']\n",
    "        print(f\"Disassociating trial components for trial: {trial_name}\")\n",
    "        disassociate_trial_components(trial_name)\n",
    "        print(f\"Deleting trial components for trial: {trial_name}\")\n",
    "        delete_trial_components(trial_name)\n",
    "        print(f\"Deleting trial: {trial_name}\")\n",
    "        sagemaker.delete_trial(TrialName=trial_name)\n",
    "\n",
    "def delete_experiment(experiment_name):\n",
    "    try:\n",
    "        print(f\"Deleting trials for experiment: {experiment_name}\")\n",
    "        delete_trials(experiment_name)\n",
    "        \n",
    "        # Delete the experiment\n",
    "        print(f\"Deleting experiment: {experiment_name}\")\n",
    "        sagemaker.delete_experiment(ExperimentName=experiment_name)\n",
    "        print(f\"Experiment {experiment_name} deleted successfully.\")\n",
    "    except sagemaker.exceptions.ResourceNotFound as e:\n",
    "        print(f\"Error: {e}\")\n",
    "    except Exception as e:\n",
    "        print(f\"Unexpected error: {e}\")\n",
    "\n",
    "# Replace 'your-experiment-name' with the name of your experiment\n",
    "experiment_name = 'bits-webminar-poc-21-06-2024-12-24-33'\n",
    "delete_experiment(experiment_name)\n"
   ]
  },
  {
   "cell_type": "code",
   "execution_count": null,
   "metadata": {},
   "outputs": [],
   "source": []
  }
 ],
 "metadata": {
  "availableInstances": [
   {
    "_defaultOrder": 0,
    "_isFastLaunch": true,
    "category": "General purpose",
    "gpuNum": 0,
    "hideHardwareSpecs": false,
    "memoryGiB": 4,
    "name": "ml.t3.medium",
    "vcpuNum": 2
   },
   {
    "_defaultOrder": 1,
    "_isFastLaunch": false,
    "category": "General purpose",
    "gpuNum": 0,
    "hideHardwareSpecs": false,
    "memoryGiB": 8,
    "name": "ml.t3.large",
    "vcpuNum": 2
   },
   {
    "_defaultOrder": 2,
    "_isFastLaunch": false,
    "category": "General purpose",
    "gpuNum": 0,
    "hideHardwareSpecs": false,
    "memoryGiB": 16,
    "name": "ml.t3.xlarge",
    "vcpuNum": 4
   },
   {
    "_defaultOrder": 3,
    "_isFastLaunch": false,
    "category": "General purpose",
    "gpuNum": 0,
    "hideHardwareSpecs": false,
    "memoryGiB": 32,
    "name": "ml.t3.2xlarge",
    "vcpuNum": 8
   },
   {
    "_defaultOrder": 4,
    "_isFastLaunch": true,
    "category": "General purpose",
    "gpuNum": 0,
    "hideHardwareSpecs": false,
    "memoryGiB": 8,
    "name": "ml.m5.large",
    "vcpuNum": 2
   },
   {
    "_defaultOrder": 5,
    "_isFastLaunch": false,
    "category": "General purpose",
    "gpuNum": 0,
    "hideHardwareSpecs": false,
    "memoryGiB": 16,
    "name": "ml.m5.xlarge",
    "vcpuNum": 4
   },
   {
    "_defaultOrder": 6,
    "_isFastLaunch": false,
    "category": "General purpose",
    "gpuNum": 0,
    "hideHardwareSpecs": false,
    "memoryGiB": 32,
    "name": "ml.m5.2xlarge",
    "vcpuNum": 8
   },
   {
    "_defaultOrder": 7,
    "_isFastLaunch": false,
    "category": "General purpose",
    "gpuNum": 0,
    "hideHardwareSpecs": false,
    "memoryGiB": 64,
    "name": "ml.m5.4xlarge",
    "vcpuNum": 16
   },
   {
    "_defaultOrder": 8,
    "_isFastLaunch": false,
    "category": "General purpose",
    "gpuNum": 0,
    "hideHardwareSpecs": false,
    "memoryGiB": 128,
    "name": "ml.m5.8xlarge",
    "vcpuNum": 32
   },
   {
    "_defaultOrder": 9,
    "_isFastLaunch": false,
    "category": "General purpose",
    "gpuNum": 0,
    "hideHardwareSpecs": false,
    "memoryGiB": 192,
    "name": "ml.m5.12xlarge",
    "vcpuNum": 48
   },
   {
    "_defaultOrder": 10,
    "_isFastLaunch": false,
    "category": "General purpose",
    "gpuNum": 0,
    "hideHardwareSpecs": false,
    "memoryGiB": 256,
    "name": "ml.m5.16xlarge",
    "vcpuNum": 64
   },
   {
    "_defaultOrder": 11,
    "_isFastLaunch": false,
    "category": "General purpose",
    "gpuNum": 0,
    "hideHardwareSpecs": false,
    "memoryGiB": 384,
    "name": "ml.m5.24xlarge",
    "vcpuNum": 96
   },
   {
    "_defaultOrder": 12,
    "_isFastLaunch": false,
    "category": "General purpose",
    "gpuNum": 0,
    "hideHardwareSpecs": false,
    "memoryGiB": 8,
    "name": "ml.m5d.large",
    "vcpuNum": 2
   },
   {
    "_defaultOrder": 13,
    "_isFastLaunch": false,
    "category": "General purpose",
    "gpuNum": 0,
    "hideHardwareSpecs": false,
    "memoryGiB": 16,
    "name": "ml.m5d.xlarge",
    "vcpuNum": 4
   },
   {
    "_defaultOrder": 14,
    "_isFastLaunch": false,
    "category": "General purpose",
    "gpuNum": 0,
    "hideHardwareSpecs": false,
    "memoryGiB": 32,
    "name": "ml.m5d.2xlarge",
    "vcpuNum": 8
   },
   {
    "_defaultOrder": 15,
    "_isFastLaunch": false,
    "category": "General purpose",
    "gpuNum": 0,
    "hideHardwareSpecs": false,
    "memoryGiB": 64,
    "name": "ml.m5d.4xlarge",
    "vcpuNum": 16
   },
   {
    "_defaultOrder": 16,
    "_isFastLaunch": false,
    "category": "General purpose",
    "gpuNum": 0,
    "hideHardwareSpecs": false,
    "memoryGiB": 128,
    "name": "ml.m5d.8xlarge",
    "vcpuNum": 32
   },
   {
    "_defaultOrder": 17,
    "_isFastLaunch": false,
    "category": "General purpose",
    "gpuNum": 0,
    "hideHardwareSpecs": false,
    "memoryGiB": 192,
    "name": "ml.m5d.12xlarge",
    "vcpuNum": 48
   },
   {
    "_defaultOrder": 18,
    "_isFastLaunch": false,
    "category": "General purpose",
    "gpuNum": 0,
    "hideHardwareSpecs": false,
    "memoryGiB": 256,
    "name": "ml.m5d.16xlarge",
    "vcpuNum": 64
   },
   {
    "_defaultOrder": 19,
    "_isFastLaunch": false,
    "category": "General purpose",
    "gpuNum": 0,
    "hideHardwareSpecs": false,
    "memoryGiB": 384,
    "name": "ml.m5d.24xlarge",
    "vcpuNum": 96
   },
   {
    "_defaultOrder": 20,
    "_isFastLaunch": false,
    "category": "General purpose",
    "gpuNum": 0,
    "hideHardwareSpecs": true,
    "memoryGiB": 0,
    "name": "ml.geospatial.interactive",
    "supportedImageNames": [
     "sagemaker-geospatial-v1-0"
    ],
    "vcpuNum": 0
   },
   {
    "_defaultOrder": 21,
    "_isFastLaunch": true,
    "category": "Compute optimized",
    "gpuNum": 0,
    "hideHardwareSpecs": false,
    "memoryGiB": 4,
    "name": "ml.c5.large",
    "vcpuNum": 2
   },
   {
    "_defaultOrder": 22,
    "_isFastLaunch": false,
    "category": "Compute optimized",
    "gpuNum": 0,
    "hideHardwareSpecs": false,
    "memoryGiB": 8,
    "name": "ml.c5.xlarge",
    "vcpuNum": 4
   },
   {
    "_defaultOrder": 23,
    "_isFastLaunch": false,
    "category": "Compute optimized",
    "gpuNum": 0,
    "hideHardwareSpecs": false,
    "memoryGiB": 16,
    "name": "ml.c5.2xlarge",
    "vcpuNum": 8
   },
   {
    "_defaultOrder": 24,
    "_isFastLaunch": false,
    "category": "Compute optimized",
    "gpuNum": 0,
    "hideHardwareSpecs": false,
    "memoryGiB": 32,
    "name": "ml.c5.4xlarge",
    "vcpuNum": 16
   },
   {
    "_defaultOrder": 25,
    "_isFastLaunch": false,
    "category": "Compute optimized",
    "gpuNum": 0,
    "hideHardwareSpecs": false,
    "memoryGiB": 72,
    "name": "ml.c5.9xlarge",
    "vcpuNum": 36
   },
   {
    "_defaultOrder": 26,
    "_isFastLaunch": false,
    "category": "Compute optimized",
    "gpuNum": 0,
    "hideHardwareSpecs": false,
    "memoryGiB": 96,
    "name": "ml.c5.12xlarge",
    "vcpuNum": 48
   },
   {
    "_defaultOrder": 27,
    "_isFastLaunch": false,
    "category": "Compute optimized",
    "gpuNum": 0,
    "hideHardwareSpecs": false,
    "memoryGiB": 144,
    "name": "ml.c5.18xlarge",
    "vcpuNum": 72
   },
   {
    "_defaultOrder": 28,
    "_isFastLaunch": false,
    "category": "Compute optimized",
    "gpuNum": 0,
    "hideHardwareSpecs": false,
    "memoryGiB": 192,
    "name": "ml.c5.24xlarge",
    "vcpuNum": 96
   },
   {
    "_defaultOrder": 29,
    "_isFastLaunch": true,
    "category": "Accelerated computing",
    "gpuNum": 1,
    "hideHardwareSpecs": false,
    "memoryGiB": 16,
    "name": "ml.g4dn.xlarge",
    "vcpuNum": 4
   },
   {
    "_defaultOrder": 30,
    "_isFastLaunch": false,
    "category": "Accelerated computing",
    "gpuNum": 1,
    "hideHardwareSpecs": false,
    "memoryGiB": 32,
    "name": "ml.g4dn.2xlarge",
    "vcpuNum": 8
   },
   {
    "_defaultOrder": 31,
    "_isFastLaunch": false,
    "category": "Accelerated computing",
    "gpuNum": 1,
    "hideHardwareSpecs": false,
    "memoryGiB": 64,
    "name": "ml.g4dn.4xlarge",
    "vcpuNum": 16
   },
   {
    "_defaultOrder": 32,
    "_isFastLaunch": false,
    "category": "Accelerated computing",
    "gpuNum": 1,
    "hideHardwareSpecs": false,
    "memoryGiB": 128,
    "name": "ml.g4dn.8xlarge",
    "vcpuNum": 32
   },
   {
    "_defaultOrder": 33,
    "_isFastLaunch": false,
    "category": "Accelerated computing",
    "gpuNum": 4,
    "hideHardwareSpecs": false,
    "memoryGiB": 192,
    "name": "ml.g4dn.12xlarge",
    "vcpuNum": 48
   },
   {
    "_defaultOrder": 34,
    "_isFastLaunch": false,
    "category": "Accelerated computing",
    "gpuNum": 1,
    "hideHardwareSpecs": false,
    "memoryGiB": 256,
    "name": "ml.g4dn.16xlarge",
    "vcpuNum": 64
   },
   {
    "_defaultOrder": 35,
    "_isFastLaunch": false,
    "category": "Accelerated computing",
    "gpuNum": 1,
    "hideHardwareSpecs": false,
    "memoryGiB": 61,
    "name": "ml.p3.2xlarge",
    "vcpuNum": 8
   },
   {
    "_defaultOrder": 36,
    "_isFastLaunch": false,
    "category": "Accelerated computing",
    "gpuNum": 4,
    "hideHardwareSpecs": false,
    "memoryGiB": 244,
    "name": "ml.p3.8xlarge",
    "vcpuNum": 32
   },
   {
    "_defaultOrder": 37,
    "_isFastLaunch": false,
    "category": "Accelerated computing",
    "gpuNum": 8,
    "hideHardwareSpecs": false,
    "memoryGiB": 488,
    "name": "ml.p3.16xlarge",
    "vcpuNum": 64
   },
   {
    "_defaultOrder": 38,
    "_isFastLaunch": false,
    "category": "Accelerated computing",
    "gpuNum": 8,
    "hideHardwareSpecs": false,
    "memoryGiB": 768,
    "name": "ml.p3dn.24xlarge",
    "vcpuNum": 96
   },
   {
    "_defaultOrder": 39,
    "_isFastLaunch": false,
    "category": "Memory Optimized",
    "gpuNum": 0,
    "hideHardwareSpecs": false,
    "memoryGiB": 16,
    "name": "ml.r5.large",
    "vcpuNum": 2
   },
   {
    "_defaultOrder": 40,
    "_isFastLaunch": false,
    "category": "Memory Optimized",
    "gpuNum": 0,
    "hideHardwareSpecs": false,
    "memoryGiB": 32,
    "name": "ml.r5.xlarge",
    "vcpuNum": 4
   },
   {
    "_defaultOrder": 41,
    "_isFastLaunch": false,
    "category": "Memory Optimized",
    "gpuNum": 0,
    "hideHardwareSpecs": false,
    "memoryGiB": 64,
    "name": "ml.r5.2xlarge",
    "vcpuNum": 8
   },
   {
    "_defaultOrder": 42,
    "_isFastLaunch": false,
    "category": "Memory Optimized",
    "gpuNum": 0,
    "hideHardwareSpecs": false,
    "memoryGiB": 128,
    "name": "ml.r5.4xlarge",
    "vcpuNum": 16
   },
   {
    "_defaultOrder": 43,
    "_isFastLaunch": false,
    "category": "Memory Optimized",
    "gpuNum": 0,
    "hideHardwareSpecs": false,
    "memoryGiB": 256,
    "name": "ml.r5.8xlarge",
    "vcpuNum": 32
   },
   {
    "_defaultOrder": 44,
    "_isFastLaunch": false,
    "category": "Memory Optimized",
    "gpuNum": 0,
    "hideHardwareSpecs": false,
    "memoryGiB": 384,
    "name": "ml.r5.12xlarge",
    "vcpuNum": 48
   },
   {
    "_defaultOrder": 45,
    "_isFastLaunch": false,
    "category": "Memory Optimized",
    "gpuNum": 0,
    "hideHardwareSpecs": false,
    "memoryGiB": 512,
    "name": "ml.r5.16xlarge",
    "vcpuNum": 64
   },
   {
    "_defaultOrder": 46,
    "_isFastLaunch": false,
    "category": "Memory Optimized",
    "gpuNum": 0,
    "hideHardwareSpecs": false,
    "memoryGiB": 768,
    "name": "ml.r5.24xlarge",
    "vcpuNum": 96
   },
   {
    "_defaultOrder": 47,
    "_isFastLaunch": false,
    "category": "Accelerated computing",
    "gpuNum": 1,
    "hideHardwareSpecs": false,
    "memoryGiB": 16,
    "name": "ml.g5.xlarge",
    "vcpuNum": 4
   },
   {
    "_defaultOrder": 48,
    "_isFastLaunch": false,
    "category": "Accelerated computing",
    "gpuNum": 1,
    "hideHardwareSpecs": false,
    "memoryGiB": 32,
    "name": "ml.g5.2xlarge",
    "vcpuNum": 8
   },
   {
    "_defaultOrder": 49,
    "_isFastLaunch": false,
    "category": "Accelerated computing",
    "gpuNum": 1,
    "hideHardwareSpecs": false,
    "memoryGiB": 64,
    "name": "ml.g5.4xlarge",
    "vcpuNum": 16
   },
   {
    "_defaultOrder": 50,
    "_isFastLaunch": false,
    "category": "Accelerated computing",
    "gpuNum": 1,
    "hideHardwareSpecs": false,
    "memoryGiB": 128,
    "name": "ml.g5.8xlarge",
    "vcpuNum": 32
   },
   {
    "_defaultOrder": 51,
    "_isFastLaunch": false,
    "category": "Accelerated computing",
    "gpuNum": 1,
    "hideHardwareSpecs": false,
    "memoryGiB": 256,
    "name": "ml.g5.16xlarge",
    "vcpuNum": 64
   },
   {
    "_defaultOrder": 52,
    "_isFastLaunch": false,
    "category": "Accelerated computing",
    "gpuNum": 4,
    "hideHardwareSpecs": false,
    "memoryGiB": 192,
    "name": "ml.g5.12xlarge",
    "vcpuNum": 48
   },
   {
    "_defaultOrder": 53,
    "_isFastLaunch": false,
    "category": "Accelerated computing",
    "gpuNum": 4,
    "hideHardwareSpecs": false,
    "memoryGiB": 384,
    "name": "ml.g5.24xlarge",
    "vcpuNum": 96
   },
   {
    "_defaultOrder": 54,
    "_isFastLaunch": false,
    "category": "Accelerated computing",
    "gpuNum": 8,
    "hideHardwareSpecs": false,
    "memoryGiB": 768,
    "name": "ml.g5.48xlarge",
    "vcpuNum": 192
   },
   {
    "_defaultOrder": 55,
    "_isFastLaunch": false,
    "category": "Accelerated computing",
    "gpuNum": 8,
    "hideHardwareSpecs": false,
    "memoryGiB": 1152,
    "name": "ml.p4d.24xlarge",
    "vcpuNum": 96
   },
   {
    "_defaultOrder": 56,
    "_isFastLaunch": false,
    "category": "Accelerated computing",
    "gpuNum": 8,
    "hideHardwareSpecs": false,
    "memoryGiB": 1152,
    "name": "ml.p4de.24xlarge",
    "vcpuNum": 96
   },
   {
    "_defaultOrder": 57,
    "_isFastLaunch": false,
    "category": "Accelerated computing",
    "gpuNum": 0,
    "hideHardwareSpecs": false,
    "memoryGiB": 32,
    "name": "ml.trn1.2xlarge",
    "vcpuNum": 8
   },
   {
    "_defaultOrder": 58,
    "_isFastLaunch": false,
    "category": "Accelerated computing",
    "gpuNum": 0,
    "hideHardwareSpecs": false,
    "memoryGiB": 512,
    "name": "ml.trn1.32xlarge",
    "vcpuNum": 128
   },
   {
    "_defaultOrder": 59,
    "_isFastLaunch": false,
    "category": "Accelerated computing",
    "gpuNum": 0,
    "hideHardwareSpecs": false,
    "memoryGiB": 512,
    "name": "ml.trn1n.32xlarge",
    "vcpuNum": 128
   }
  ],
  "kernelspec": {
   "display_name": "Python 3 (Data Science 3.0)",
   "language": "python",
   "name": "python3__SAGEMAKER_INTERNAL__arn:aws:sagemaker:eu-north-1:243637512696:image/sagemaker-data-science-310-v1"
  },
  "language_info": {
   "codemirror_mode": {
    "name": "ipython",
    "version": 3
   },
   "file_extension": ".py",
   "mimetype": "text/x-python",
   "name": "python",
   "nbconvert_exporter": "python",
   "pygments_lexer": "ipython3",
   "version": "3.10.6"
  }
 },
 "nbformat": 4,
 "nbformat_minor": 4
}
