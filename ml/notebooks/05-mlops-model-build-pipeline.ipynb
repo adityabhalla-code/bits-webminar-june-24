{
 "cells": [
  {
   "cell_type": "markdown",
   "id": "1f4fcb67-afe8-4b1f-939e-baf5be095783",
   "metadata": {},
   "source": [
    "# imports"
   ]
  },
  {
   "cell_type": "code",
   "execution_count": 2,
   "id": "28a56ab2-ca95-434d-bcf4-65d4297dc89e",
   "metadata": {
    "tags": []
   },
   "outputs": [
    {
     "name": "stdout",
     "output_type": "stream",
     "text": [
      "sagemaker.config INFO - Not applying SDK defaults from location: /etc/xdg/sagemaker/config.yaml\n",
      "sagemaker.config INFO - Not applying SDK defaults from location: /root/.config/sagemaker/config.yaml\n"
     ]
    }
   ],
   "source": [
    "import boto3\n",
    "import sagemaker \n",
    "from time import gmtime, strftime, sleep"
   ]
  },
  {
   "cell_type": "markdown",
   "id": "5ab0ca79-3ef5-4580-9bca-e3935f9b20bd",
   "metadata": {},
   "source": [
    "# create a mlops project"
   ]
  },
  {
   "cell_type": "code",
   "execution_count": 3,
   "id": "cc42efa4-8959-4e76-b8a7-03c36a94ae9d",
   "metadata": {
    "tags": []
   },
   "outputs": [],
   "source": [
    "sm = boto3.client(\"sagemaker\")\n",
    "sc = boto3.client(\"servicecatalog\")\n",
    "\n",
    "sc_provider_name = \"Amazon SageMaker\"\n",
    "sc_product_name = \"MLOps template for model building and training\""
   ]
  },
  {
   "cell_type": "code",
   "execution_count": 4,
   "id": "60aeb675-e8f2-44bc-b555-0123644ec3ce",
   "metadata": {
    "tags": []
   },
   "outputs": [],
   "source": [
    "p_ids = [p['ProductId'] for p in sc.search_products(\n",
    "    Filters={\n",
    "        'FullTextSearch': [sc_product_name]\n",
    "    },\n",
    ")['ProductViewSummaries'] if p[\"Name\"]==sc_product_name]"
   ]
  },
  {
   "cell_type": "code",
   "execution_count": 5,
   "id": "375ba14e-f892-44cc-ba03-6becf8c81a95",
   "metadata": {
    "tags": []
   },
   "outputs": [
    {
     "data": {
      "text/plain": [
       "['prod-53ibyqbj2cgmo']"
      ]
     },
     "execution_count": 5,
     "metadata": {},
     "output_type": "execute_result"
    }
   ],
   "source": [
    "p_ids"
   ]
  },
  {
   "cell_type": "code",
   "execution_count": 6,
   "id": "9ff45fcd-501b-4534-8eec-fd670769d932",
   "metadata": {
    "tags": []
   },
   "outputs": [
    {
     "name": "stdout",
     "output_type": "stream",
     "text": [
      "ML Ops product id: prod-53ibyqbj2cgmo\n"
     ]
    }
   ],
   "source": [
    "if not len(p_ids):\n",
    "    raise Exception(\"No Amazon SageMaker ML Ops products found!\")\n",
    "elif len(p_ids) > 1:\n",
    "    raise Exception(\"Too many matching Amazon SageMaker ML Ops products found!\")\n",
    "else:\n",
    "    product_id = p_ids[0]\n",
    "    print(f\"ML Ops product id: {product_id}\")"
   ]
  },
  {
   "cell_type": "code",
   "execution_count": 7,
   "id": "8031aa60-b47a-4439-924f-da309445a683",
   "metadata": {
    "tags": []
   },
   "outputs": [],
   "source": [
    "provisioning_artifact_id = sorted(\n",
    "    [i for i in sc.list_provisioning_artifacts(\n",
    "        ProductId=product_id\n",
    "    )['ProvisioningArtifactDetails'] if i['Guidance']=='DEFAULT'],\n",
    "    key=lambda d: d['Name'], reverse=True)[0]['Id']"
   ]
  },
  {
   "cell_type": "code",
   "execution_count": 8,
   "id": "d942e88c-c440-4c92-bfd8-938fe83892e3",
   "metadata": {
    "tags": []
   },
   "outputs": [
    {
     "data": {
      "text/plain": [
       "'pa-dxonbcmsdfyq6'"
      ]
     },
     "execution_count": 8,
     "metadata": {},
     "output_type": "execute_result"
    }
   ],
   "source": [
    "provisioning_artifact_id"
   ]
  },
  {
   "cell_type": "code",
   "execution_count": 14,
   "id": "561dc482-c5fd-4af0-980d-81fed87a61b3",
   "metadata": {
    "tags": []
   },
   "outputs": [],
   "source": [
    "project_name = f\"siemens-build-{strftime('%m-%d-%H-%M-%S', gmtime())}\"\n",
    "project_parameters = [] # This SageMaker built-in project template doesn't have any parameters"
   ]
  },
  {
   "cell_type": "code",
   "execution_count": 15,
   "id": "1fb341ab-3e4d-406b-9953-fbd248b9dde4",
   "metadata": {
    "tags": []
   },
   "outputs": [
    {
     "name": "stdout",
     "output_type": "stream",
     "text": [
      "{'ProjectArn': 'arn:aws:sagemaker:us-east-1:644383320443:project/siemens-build-01-16-06-51-43', 'ProjectId': 'p-oldzx0zjfxee', 'ResponseMetadata': {'RequestId': '9c48a25d-338b-40b8-a1cd-16eb38849b3a', 'HTTPStatusCode': 200, 'HTTPHeaders': {'x-amzn-requestid': '9c48a25d-338b-40b8-a1cd-16eb38849b3a', 'content-type': 'application/x-amz-json-1.1', 'content-length': '123', 'date': 'Tue, 16 Jan 2024 06:51:43 GMT'}, 'RetryAttempts': 0}}\n"
     ]
    }
   ],
   "source": [
    "# create SageMaker project\n",
    "r = sm.create_project(\n",
    "    ProjectName=project_name,\n",
    "    ProjectDescription=\"Siemens Poc Model build project\",\n",
    "    ServiceCatalogProvisioningDetails={\n",
    "        'ProductId': product_id,\n",
    "        'ProvisioningArtifactId': provisioning_artifact_id,\n",
    "    },\n",
    ")\n",
    "\n",
    "print(r)\n",
    "project_id = r[\"ProjectId\"]"
   ]
  },
  {
   "cell_type": "code",
   "execution_count": 16,
   "id": "54ec7456-bc00-4f0c-93e6-3c7dcd7253dd",
   "metadata": {
    "tags": []
   },
   "outputs": [
    {
     "name": "stdout",
     "output_type": "stream",
     "text": [
      "Waiting for project creation completion\n",
      "Waiting for project creation completion\n",
      "Waiting for project creation completion\n",
      "Waiting for project creation completion\n",
      "Waiting for project creation completion\n",
      "Waiting for project creation completion\n",
      "Waiting for project creation completion\n",
      "Waiting for project creation completion\n",
      "Waiting for project creation completion\n",
      "Waiting for project creation completion\n",
      "MLOps project siemens-build-01-16-06-51-43 creation completed\n"
     ]
    }
   ],
   "source": [
    "while sm.describe_project(ProjectName=project_name)['ProjectStatus'] != 'CreateCompleted':\n",
    "    print(\"Waiting for project creation completion\")\n",
    "    sleep(10)\n",
    "    \n",
    "print(f\"MLOps project {project_name} creation completed\")"
   ]
  },
  {
   "cell_type": "code",
   "execution_count": 17,
   "id": "3e4fef86-7c99-4de0-be5c-aa4df8e99a70",
   "metadata": {
    "tags": []
   },
   "outputs": [
    {
     "name": "stdout",
     "output_type": "stream",
     "text": [
      "siemens-build-01-16-06-51-43-p-oldzx0zjfxee/sagemaker-siemens-build-01-16-06-51-43-p-oldzx0zjfxee-modelbuild\n"
     ]
    }
   ],
   "source": [
    "r = sm.describe_project(ProjectName=project_name)\n",
    "project_id = r['ProjectId']\n",
    "project_arn = r['ProjectArn']\n",
    "project_folder = f\"{project_name}-{project_id}/sagemaker-{project_name}-{project_id}-modelbuild\"\n",
    "\n",
    "print(project_folder)"
   ]
  },
  {
   "cell_type": "code",
   "execution_count": 25,
   "id": "1cf77e9b-300f-4b12-b263-4488147c7b59",
   "metadata": {
    "tags": []
   },
   "outputs": [
    {
     "name": "stdout",
     "output_type": "stream",
     "text": [
      "Overwriting ../scripts/pipeline.py\n"
     ]
    }
   ],
   "source": [
    "%%writefile ../scripts/pipeline.py\n",
    "\n",
    "import pandas as pd\n",
    "import json\n",
    "import boto3\n",
    "import pathlib\n",
    "import io\n",
    "import sagemaker\n",
    "from time import gmtime, strftime, sleep\n",
    "from sagemaker.deserializers import CSVDeserializer\n",
    "from sagemaker.serializers import CSVSerializer\n",
    "\n",
    "from sagemaker.workflow.pipeline_context import PipelineSession\n",
    "from sagemaker.xgboost.estimator import XGBoost\n",
    "from sagemaker.sklearn.processing import SKLearnProcessor\n",
    "from sagemaker.processing import (\n",
    "    ProcessingInput, \n",
    "    ProcessingOutput, \n",
    "    ScriptProcessor\n",
    ")\n",
    "from sagemaker.inputs import TrainingInput\n",
    "\n",
    "from sagemaker.workflow.pipeline import Pipeline\n",
    "from sagemaker.workflow.steps import (\n",
    "    ProcessingStep, \n",
    "    TrainingStep, \n",
    "    CreateModelStep,\n",
    "    CacheConfig\n",
    ")\n",
    "from sagemaker.workflow.check_job_config import CheckJobConfig\n",
    "from sagemaker.workflow.parameters import (\n",
    "    ParameterInteger, \n",
    "    ParameterFloat, \n",
    "    ParameterString, \n",
    "    ParameterBoolean\n",
    ")\n",
    "from sagemaker.workflow.clarify_check_step import (\n",
    "    ModelBiasCheckConfig, \n",
    "    ClarifyCheckStep, \n",
    "    ModelExplainabilityCheckConfig\n",
    ")\n",
    "from sagemaker import Model\n",
    "from sagemaker.inputs import CreateModelInput\n",
    "from sagemaker.workflow.model_step import ModelStep\n",
    "from sagemaker.workflow.fail_step import FailStep\n",
    "from sagemaker.workflow.conditions import (\n",
    "    ConditionGreaterThan,\n",
    "    ConditionGreaterThanOrEqualTo\n",
    ")\n",
    "from sagemaker.workflow.properties import PropertyFile\n",
    "from sagemaker.workflow.condition_step import ConditionStep\n",
    "from sagemaker.workflow.functions import (\n",
    "    Join,\n",
    "    JsonGet\n",
    ")\n",
    "from sagemaker.workflow.lambda_step import (\n",
    "    LambdaStep,\n",
    "    LambdaOutput,\n",
    "    LambdaOutputTypeEnum,\n",
    ")\n",
    "from sagemaker.lambda_helper import Lambda\n",
    "\n",
    "from sagemaker.model_metrics import (\n",
    "    MetricsSource, \n",
    "    ModelMetrics, \n",
    "    FileSource\n",
    ")\n",
    "from sagemaker.drift_check_baselines import DriftCheckBaselines\n",
    "\n",
    "from sagemaker.image_uris import retrieve\n",
    "import os\n",
    "\n",
    "BASE_DIR = os.path.dirname(os.path.realpath(__file__))\n",
    "\n",
    "def get_sagemaker_client(region):\n",
    "     \"\"\"Gets the sagemaker client.\n",
    "\n",
    "        Args:\n",
    "            region: the aws region to start the session\n",
    "            default_bucket: the bucket to use for storing the artifacts\n",
    "\n",
    "        Returns:\n",
    "            `sagemaker.session.Session instance\n",
    "        \"\"\"\n",
    "     boto_session = boto3.Session(region_name=region)\n",
    "     sagemaker_client = boto_session.client(\"sagemaker\")\n",
    "     return sagemaker_client\n",
    "\n",
    "\n",
    "def get_session(region, default_bucket):\n",
    "    \"\"\"Gets the sagemaker session based on the region.\n",
    "\n",
    "    Args:\n",
    "        region: the aws region to start the session\n",
    "        default_bucket: the bucket to use for storing the artifacts\n",
    "\n",
    "    Returns:\n",
    "        `sagemaker.session.Session instance\n",
    "    \"\"\"\n",
    "\n",
    "    boto_session = boto3.Session(region_name=region)\n",
    "\n",
    "    sagemaker_client = boto_session.client(\"sagemaker\")\n",
    "    runtime_client = boto_session.client(\"sagemaker-runtime\")\n",
    "    return sagemaker.session.Session(\n",
    "        boto_session=boto_session,\n",
    "        sagemaker_client=sagemaker_client,\n",
    "        sagemaker_runtime_client=runtime_client,\n",
    "        default_bucket=default_bucket,\n",
    "    )\n",
    "\n",
    "def get_pipeline_session(region, default_bucket):\n",
    "    \"\"\"Gets the pipeline session based on the region.\n",
    "\n",
    "    Args:\n",
    "        region: the aws region to start the session\n",
    "        default_bucket: the bucket to use for storing the artifacts\n",
    "\n",
    "    Returns:\n",
    "        PipelineSession instance\n",
    "    \"\"\"\n",
    "\n",
    "    boto_session = boto3.Session(region_name=region)\n",
    "    sagemaker_client = boto_session.client(\"sagemaker\")\n",
    "\n",
    "    return PipelineSession(\n",
    "        boto_session=boto_session,\n",
    "        sagemaker_client=sagemaker_client,\n",
    "        default_bucket=default_bucket,\n",
    "    )\n",
    "\n",
    "def get_pipeline_custom_tags(new_tags, region, sagemaker_project_arn=None):\n",
    "    try:\n",
    "        sm_client = get_sagemaker_client(region)\n",
    "        response = sm_client.list_tags(\n",
    "            ResourceArn=sagemaker_project_arn)\n",
    "        project_tags = response[\"Tags\"]\n",
    "        for project_tag in project_tags:\n",
    "            new_tags.append(project_tag)\n",
    "    except Exception as e:\n",
    "        print(f\"Error getting project tags: {e}\")\n",
    "    return new_tags\n",
    "\n",
    "\n",
    "def get_pipeline(\n",
    "    region,\n",
    "    sagemaker_project_arn=None,\n",
    "    sagemaker_project_id=None,\n",
    "    role=None,\n",
    "    default_bucket=None,\n",
    "    input_data_url=None,\n",
    "    bucket_prefix=\"siemens-poc/xgboost\",\n",
    "    model_package_group_name=\"siemens-poc-xgboost-model-group\",\n",
    "    pipeline_name=\"siemens-poc-pipeline\",\n",
    "    base_job_prefix=\"siemens-poc-pipeline\",\n",
    "    processing_instance_type=\"ml.t3.medium\",\n",
    "    training_instance_type=\"ml.m5.xlarge\",\n",
    "    test_score_threshold=0.75,\n",
    "):\n",
    "    \"\"\"Gets a SageMaker ML Pipeline instance.\n",
    "\n",
    "    Args:\n",
    "        region: AWS region to create and run the pipeline.\n",
    "        role: IAM role to create and run steps and pipeline.\n",
    "        default_bucket: the bucket to use for storing the artifacts\n",
    "\n",
    "    Returns:\n",
    "        an instance of a pipeline\n",
    "    \"\"\"\n",
    "    sagemaker_session = get_session(region, default_bucket)\n",
    "    if role is None:\n",
    "        role = sagemaker.session.get_execution_role(sagemaker_session)\n",
    "\n",
    "    session = get_pipeline_session(region, default_bucket)\n",
    "    sm = session.sagemaker_client\n",
    "\n",
    "    # Set S3 urls for processed data\n",
    "    train_s3_url = f\"s3://{default_bucket}/{bucket_prefix}/train\"\n",
    "    validation_s3_url = f\"s3://{default_bucket}/{bucket_prefix}/validation\"\n",
    "    test_s3_url = f\"s3://{default_bucket}/{bucket_prefix}/test\"\n",
    "    baseline_s3_url = f\"s3://{default_bucket}/{bucket_prefix}/baseline\"\n",
    "    evaluation_s3_url = f\"s3://{default_bucket}/{bucket_prefix}/evaluation\"\n",
    "    prediction_baseline_s3_url = f\"s3://{default_bucket}/{bucket_prefix}/prediction_baseline\"\n",
    "    \n",
    "    # Set S3 url for model artifact\n",
    "    output_s3_url = f\"s3://{default_bucket}/{bucket_prefix}/output\"\n",
    "\n",
    "    # Parameters for pipeline execution\n",
    "    # Set processing instance type\n",
    "    process_instance_type_param = ParameterString(\n",
    "        name=\"ProcessingInstanceType\",\n",
    "        default_value=processing_instance_type,\n",
    "    )\n",
    "\n",
    "    # Set training instance type\n",
    "    train_instance_type_param = ParameterString(\n",
    "        name=\"TrainingInstanceType\",\n",
    "        default_value=training_instance_type,\n",
    "    )\n",
    "\n",
    "    # Set training instance count\n",
    "    train_instance_count_param = ParameterInteger(\n",
    "        name=\"TrainingInstanceCount\",\n",
    "        default_value=1\n",
    "    )\n",
    "\n",
    "    # Set model approval param\n",
    "    model_approval_status_param = ParameterString(\n",
    "        name=\"ModelApprovalStatus\", default_value=\"PendingManualApproval\"\n",
    "    )\n",
    "\n",
    "    # Minimal threshold for model performance on the test dataset\n",
    "    test_score_threshold_param = ParameterFloat(\n",
    "        name=\"TestScoreThreshold\", \n",
    "        default_value=100.0\n",
    "    )\n",
    "\n",
    "    # Set S3 url for input dataset\n",
    "    input_s3_url_param = ParameterString(\n",
    "        name=\"InputDataUrl\",\n",
    "        default_value=input_data_url,\n",
    "    )\n",
    "    \n",
    "    # Define step cache config\n",
    "    cache_config = CacheConfig(\n",
    "        enable_caching=True,\n",
    "        expire_after=\"P30d\" # 30-day\n",
    "    )\n",
    "    \n",
    "    # processing step for feature engineering\n",
    "    sklearn_processor = SKLearnProcessor(\n",
    "        framework_version=\"0.23-1\",\n",
    "        role=role,\n",
    "        instance_type=process_instance_type_param,\n",
    "        instance_count=1,\n",
    "        base_job_name=f\"{pipeline_name}/preprocess\",\n",
    "        sagemaker_session=session,\n",
    "    )\n",
    "    \n",
    "    processing_inputs=[\n",
    "        ProcessingInput(source=input_s3_url_param, destination=\"/opt/ml/processing/input\")\n",
    "    ]\n",
    "\n",
    "    processing_outputs=[\n",
    "        ProcessingOutput(output_name=\"train_data\", source=\"/opt/ml/processing/output/train\", \n",
    "                         destination=train_s3_url),\n",
    "        ProcessingOutput(output_name=\"validation_data\", source=\"/opt/ml/processing/output/validation\",\n",
    "                         destination=validation_s3_url),\n",
    "        ProcessingOutput(output_name=\"test_data\", source=\"/opt/ml/processing/output/test\",\n",
    "                         destination=test_s3_url),\n",
    "        ProcessingOutput(output_name=\"baseline_data\", source=\"/opt/ml/processing/output/baseline\", \n",
    "                         destination=baseline_s3_url),\n",
    "    ]\n",
    "\n",
    "    processor_args = sklearn_processor.run(\n",
    "        inputs=processing_inputs,\n",
    "        outputs=processing_outputs,\n",
    "        code=os.path.join(BASE_DIR, \"preprocessing.py\"),\n",
    "        # arguments = ['arg1', 'arg2'],\n",
    "    )\n",
    "\n",
    "    # Define processing step\n",
    "    step_process = ProcessingStep(\n",
    "        name=f\"{pipeline_name}-preprocess-data\",\n",
    "        step_args=processor_args,\n",
    "        cache_config = cache_config\n",
    "    )\n",
    "\n",
    "    # Training step for generating model artifacts\n",
    "    xgboost_image_uri = sagemaker.image_uris.retrieve(\n",
    "        \"xgboost\",\n",
    "        region=region, \n",
    "        version=\"1.5-1\")\n",
    "\n",
    "    # Instantiate an XGBoost estimator object\n",
    "    estimator = sagemaker.estimator.Estimator(\n",
    "        image_uri=xgboost_image_uri,\n",
    "        role=role, \n",
    "        instance_type=train_instance_type_param,\n",
    "        instance_count=train_instance_count_param,\n",
    "        output_path=output_s3_url,\n",
    "        sagemaker_session=session,\n",
    "        base_job_name=f\"{pipeline_name}/train\",\n",
    "    )\n",
    "\n",
    "    # Define algorithm hyperparameters\n",
    "    estimator.set_hyperparameters(\n",
    "        num_round=150, # the number of rounds to run the training\n",
    "        max_depth=5, # maximum depth of a tree\n",
    "        eta=0.5, # step size shrinkage used in updates to prevent overfitting\n",
    "        alpha=2.5, # L1 regularization term on weights\n",
    "        objective=\"reg:squarederror\",\n",
    "        eval_metric=\"rmse\", # evaluation metrics for validation data\n",
    "        subsample=0.8, # subsample ratio of the training instance\n",
    "        colsample_bytree=0.8, # subsample ratio of columns when constructing each tree\n",
    "        min_child_weight=3, # minimum sum of instance weight (hessian) needed in a child\n",
    "        early_stopping_rounds=10, # the model trains until the validation score stops improving\n",
    "        verbosity=1, # verbosity of printing messages\n",
    "    )\n",
    "\n",
    "    training_inputs = {\n",
    "        \"train\": TrainingInput(\n",
    "            s3_data=step_process.properties.ProcessingOutputConfig.Outputs[\n",
    "                \"train_data\"\n",
    "            ].S3Output.S3Uri,\n",
    "            content_type=\"text/csv\",\n",
    "        ),\n",
    "        \"validation\": TrainingInput(\n",
    "            s3_data=step_process.properties.ProcessingOutputConfig.Outputs[\n",
    "                \"validation_data\"\n",
    "            ].S3Output.S3Uri,\n",
    "            content_type=\"text/csv\",\n",
    "        ),\n",
    "    }\n",
    "\n",
    "    training_args = estimator.fit(training_inputs)\n",
    "\n",
    "    # Define training step\n",
    "    step_train = TrainingStep(\n",
    "        name=f\"{pipeline_name}-train\",\n",
    "        step_args=training_args,\n",
    "        cache_config = cache_config\n",
    "    )\n",
    "    \n",
    "    # Evaluation step\n",
    "    script_processor = ScriptProcessor(\n",
    "        image_uri=xgboost_image_uri,\n",
    "        role=role,\n",
    "        command=[\"python3\"],\n",
    "        instance_type=process_instance_type_param,\n",
    "        instance_count=1,\n",
    "        base_job_name=f\"{pipeline_name}/evaluate\",\n",
    "        sagemaker_session=session,\n",
    "    )\n",
    "\n",
    "    eval_inputs=[\n",
    "        ProcessingInput(source=step_train.properties.ModelArtifacts.S3ModelArtifacts, \n",
    "                        destination=\"/opt/ml/processing/model\"),\n",
    "        ProcessingInput(source=step_process.properties.ProcessingOutputConfig.Outputs[\"test_data\"].S3Output.S3Uri, \n",
    "                        destination=\"/opt/ml/processing/test\"),\n",
    "    ]\n",
    "\n",
    "    eval_outputs=[\n",
    "        ProcessingOutput(output_name=\"evaluation\", source=\"/opt/ml/processing/evaluation\", \n",
    "                         destination=evaluation_s3_url),\n",
    "        ProcessingOutput(output_name=\"prediction_baseline_data\", source=\"/opt/ml/processing/output/prediction_baseline\", \n",
    "                         destination=prediction_baseline_s3_url),\n",
    "    ]\n",
    "\n",
    "    eval_args = script_processor.run(\n",
    "        inputs=eval_inputs,\n",
    "        outputs=eval_outputs,\n",
    "        code=os.path.join(BASE_DIR, \"evaluation.py\"),\n",
    "    )\n",
    "\n",
    "    evaluation_report = PropertyFile(\n",
    "        name=\"ModelEvaluationReport\", output_name=\"evaluation\", path=\"evaluation.json\"\n",
    "    )\n",
    "\n",
    "    step_eval = ProcessingStep(\n",
    "        name=f\"{pipeline_name}-evaluate-model\",\n",
    "        step_args=eval_args,\n",
    "        property_files=[evaluation_report],\n",
    "        cache_config = cache_config\n",
    "    )\n",
    "    \n",
    "    # Define register step\n",
    "    model = Model(\n",
    "        image_uri=xgboost_image_uri,        \n",
    "        model_data=step_train.properties.ModelArtifacts.S3ModelArtifacts,\n",
    "        sagemaker_session=session,\n",
    "        role=role,\n",
    "    )\n",
    "\n",
    "    model_metrics = ModelMetrics(\n",
    "        model_statistics=MetricsSource(\n",
    "            s3_uri=\"{}/evaluation.json\".format(\n",
    "                step_eval.arguments[\"ProcessingOutputConfig\"][\"Outputs\"][0][\"S3Output\"][\"S3Uri\"]\n",
    "            ),\n",
    "            content_type=\"application/json\",\n",
    "        )\n",
    "    )\n",
    "\n",
    "    register_args = model.register(\n",
    "        content_types=[\"text/csv\"],\n",
    "        response_types=[\"text/csv\"],\n",
    "        inference_instances=[\"ml.t2.medium\", \"ml.m5.xlarge\", \"ml.m5.large\"],\n",
    "        transform_instances=[\"ml.m5.xlarge\", \"ml.m5.large\"],\n",
    "        model_package_group_name=model_package_group_name,\n",
    "        approval_status=model_approval_status_param,\n",
    "        model_metrics=model_metrics,\n",
    "    )\n",
    "\n",
    "    step_register = ModelStep(\n",
    "        name=f\"{pipeline_name}-register\",\n",
    "        step_args=register_args\n",
    "    )\n",
    "\n",
    "    # Fail step\n",
    "    step_fail = FailStep(\n",
    "        name=f\"{pipeline_name}-fail\",\n",
    "        error_message=Join(on=\" \", values=[\"Execution failed due to RMSE Score >\", test_score_threshold_param]),\n",
    "    )\n",
    "    \n",
    "    # Condition step\n",
    "    cond_lte = ConditionGreaterThan(\n",
    "        left=JsonGet(\n",
    "            step_name=step_eval.name,\n",
    "            property_file=evaluation_report,\n",
    "            json_path=\"regression_metric.test_rmse.value\",\n",
    "        ),\n",
    "        right=test_score_threshold_param,\n",
    "    )\n",
    "\n",
    "    step_cond = ConditionStep(\n",
    "        name=f\"{pipeline_name}-check-test-score\",\n",
    "        conditions=[cond_lte],\n",
    "        if_steps=[step_register],\n",
    "        else_steps=[step_fail],\n",
    "    )\n",
    "    \n",
    "    # Pipeline instance\n",
    "    pipeline = Pipeline(\n",
    "        name=pipeline_name,\n",
    "        parameters=[\n",
    "            process_instance_type_param,\n",
    "            train_instance_type_param,\n",
    "            train_instance_count_param,\n",
    "            model_approval_status_param,\n",
    "            test_score_threshold_param,\n",
    "            input_s3_url_param,\n",
    "        ],\n",
    "        steps=[step_process, step_train, step_eval, step_cond],\n",
    "        sagemaker_session=session,\n",
    "    )\n",
    "    \n",
    "    return pipeline"
   ]
  },
  {
   "cell_type": "markdown",
   "id": "79c5e0c2-73d6-4a11-a2da-c6782143b42c",
   "metadata": {},
   "source": [
    "# attach model package group to the project"
   ]
  },
  {
   "cell_type": "code",
   "execution_count": 23,
   "id": "6ade25d8-7b47-44c4-bccd-11db4f692d61",
   "metadata": {
    "tags": []
   },
   "outputs": [],
   "source": [
    "model_package_group_name = \"siemens-poc-xgboost-model-group\""
   ]
  },
  {
   "cell_type": "code",
   "execution_count": 26,
   "id": "1d578a4c-9d1d-4dce-961a-17fd06fe1928",
   "metadata": {
    "tags": []
   },
   "outputs": [
    {
     "name": "stdout",
     "output_type": "stream",
     "text": [
      "Adding tags siemens-build-01-16-06-51-43 and p-oldzx0zjfxee for model package group arn:aws:sagemaker:us-east-1:644383320443:model-package-group/siemens-poc-xgboost-model-group\n",
      "{'Tags': [{'Key': 'sagemaker:project-name', 'Value': 'siemens-build-01-16-06-51-43'}, {'Key': 'sagemaker:project-id', 'Value': 'p-oldzx0zjfxee'}], 'ResponseMetadata': {'RequestId': 'dea168b9-4c48-400b-aa61-a9961cfe3e58', 'HTTPStatusCode': 200, 'HTTPHeaders': {'x-amzn-requestid': 'dea168b9-4c48-400b-aa61-a9961cfe3e58', 'content-type': 'application/x-amz-json-1.1', 'content-length': '138', 'date': 'Tue, 16 Jan 2024 08:07:03 GMT'}, 'RetryAttempts': 0}}\n"
     ]
    },
    {
     "data": {
      "text/plain": [
       "[{'Key': 'sagemaker:project-name', 'Value': 'siemens-build-01-16-06-51-43'},\n",
       " {'Key': 'sagemaker:user-profile-arn',\n",
       "  'Value': 'arn:aws:sagemaker:us-east-1:644383320443:user-profile/d-zjfao8azi0ng/default-20240109t220482'},\n",
       " {'Key': 'sagemaker:pipeline-step-name',\n",
       "  'Value': 'siemens-poc-xgboost-pipeline-register-RegisterModel'},\n",
       " {'Key': 'sagemaker:domain-arn',\n",
       "  'Value': 'arn:aws:sagemaker:us-east-1:644383320443:domain/d-zjfao8azi0ng'},\n",
       " {'Key': 'sagemaker:pipeline-execution-arn',\n",
       "  'Value': 'arn:aws:sagemaker:us-east-1:644383320443:pipeline/siemens-poc-xgboost-pipeline/execution/cjsovam52saa'},\n",
       " {'Key': 'sagemaker:project-id', 'Value': 'p-oldzx0zjfxee'}]"
      ]
     },
     "execution_count": 26,
     "metadata": {},
     "output_type": "execute_result"
    }
   ],
   "source": [
    "model_package_group_arn = sm.describe_model_package_group(ModelPackageGroupName=model_package_group_name).get(\"ModelPackageGroupArn\")\n",
    "if model_package_group_arn:\n",
    "    print(f\"Adding tags {project_arn.split('/')[-1]} and {project_id} for model package group {model_package_group_arn}\")\n",
    "    r = sm.add_tags(\n",
    "        ResourceArn=model_package_group_arn,\n",
    "        Tags=[\n",
    "            {\n",
    "                'Key': 'sagemaker:project-name',\n",
    "                'Value': project_arn.split(\"/\")[-1]\n",
    "            },\n",
    "            {\n",
    "                'Key': 'sagemaker:project-id',\n",
    "                'Value': project_id\n",
    "            },\n",
    "        ]\n",
    "    )\n",
    "    print(r)\n",
    "else:\n",
    "    print(f\"The model package group {model_package_group_name} doesn't exist\")\n",
    "    \n",
    "sm.list_tags(ResourceArn=model_package_group_arn)[\"Tags\"]"
   ]
  },
  {
   "cell_type": "code",
   "execution_count": 28,
   "id": "8f4cccdf-1fca-42a5-ab96-4e0c91931cfb",
   "metadata": {
    "tags": []
   },
   "outputs": [],
   "source": [
    "input_s3_url = 's3://sagemaker-us-east-1-644383320443/siemens-poc/bike-sharing-dataset.csv'"
   ]
  },
  {
   "cell_type": "code",
   "execution_count": 30,
   "id": "4288a0a1-837e-4cbc-8140-40fcd264e36f",
   "metadata": {
    "tags": []
   },
   "outputs": [
    {
     "name": "stdout",
     "output_type": "stream",
     "text": [
      "Overwriting ../codebuild-buildspec.yml\n"
     ]
    }
   ],
   "source": [
    "%%writefile ../codebuild-buildspec.yml\n",
    "\n",
    "version: 0.2\n",
    "\n",
    "phases:\n",
    "  install:\n",
    "    runtime-versions:\n",
    "      python: 3.11\n",
    "    commands:\n",
    "      - pip install --upgrade --force-reinstall . \"awscli>1.20.30\"\n",
    "  \n",
    "  build:\n",
    "    commands:\n",
    "      - export PYTHONUNBUFFERED=TRUE\n",
    "      - export SAGEMAKER_PROJECT_NAME_ID=\"${SAGEMAKER_PROJECT_NAME}-${SAGEMAKER_PROJECT_ID}\"\n",
    "      - |\n",
    "        run-pipeline --module-name pipelines.siemenspoc.pipeline \\\n",
    "          --role-arn $SAGEMAKER_PIPELINE_ROLE_ARN \\\n",
    "          --tags \"[{\\\"Key\\\":\\\"sagemaker:project-name\\\", \\\"Value\\\":\\\"${SAGEMAKER_PROJECT_NAME}\\\"}, {\\\"Key\\\":\\\"sagemaker:project-id\\\", \\\"Value\\\":\\\"${SAGEMAKER_PROJECT_ID}\\\"}]\" \\\n",
    "          --kwargs \"{\\\"region\\\":\\\"${AWS_REGION}\\\",\\\"sagemaker_project_arn\\\":\\\"${SAGEMAKER_PROJECT_ARN}\\\",\\\"sagemaker_project_id\\\":\\\"${SAGEMAKER_PROJECT_ID}\\\",\\\"role\\\":\\\"${SAGEMAKER_PIPELINE_ROLE_ARN}\\\",\\\"default_bucket\\\":\\\"${ARTIFACT_BUCKET}\\\",\\\"input_data_url\\\":\\\"s3://sagemaker-us-east-1-644383320443/siemens-poc/bike-sharing-dataset.csv\\\"}\"\n",
    "      - echo \"Create/Update of the SageMaker Pipeline and execution completed.\""
   ]
  },
  {
   "cell_type": "code",
   "execution_count": null,
   "id": "3310d9dc-a168-4b84-9a4d-7bbe0ce15cd8",
   "metadata": {},
   "outputs": [],
   "source": []
  },
  {
   "cell_type": "code",
   "execution_count": null,
   "id": "2f0e7593-05a3-435d-976f-c002957be714",
   "metadata": {},
   "outputs": [],
   "source": []
  }
 ],
 "metadata": {
  "availableInstances": [
   {
    "_defaultOrder": 0,
    "_isFastLaunch": true,
    "category": "General purpose",
    "gpuNum": 0,
    "hideHardwareSpecs": false,
    "memoryGiB": 4,
    "name": "ml.t3.medium",
    "vcpuNum": 2
   },
   {
    "_defaultOrder": 1,
    "_isFastLaunch": false,
    "category": "General purpose",
    "gpuNum": 0,
    "hideHardwareSpecs": false,
    "memoryGiB": 8,
    "name": "ml.t3.large",
    "vcpuNum": 2
   },
   {
    "_defaultOrder": 2,
    "_isFastLaunch": false,
    "category": "General purpose",
    "gpuNum": 0,
    "hideHardwareSpecs": false,
    "memoryGiB": 16,
    "name": "ml.t3.xlarge",
    "vcpuNum": 4
   },
   {
    "_defaultOrder": 3,
    "_isFastLaunch": false,
    "category": "General purpose",
    "gpuNum": 0,
    "hideHardwareSpecs": false,
    "memoryGiB": 32,
    "name": "ml.t3.2xlarge",
    "vcpuNum": 8
   },
   {
    "_defaultOrder": 4,
    "_isFastLaunch": true,
    "category": "General purpose",
    "gpuNum": 0,
    "hideHardwareSpecs": false,
    "memoryGiB": 8,
    "name": "ml.m5.large",
    "vcpuNum": 2
   },
   {
    "_defaultOrder": 5,
    "_isFastLaunch": false,
    "category": "General purpose",
    "gpuNum": 0,
    "hideHardwareSpecs": false,
    "memoryGiB": 16,
    "name": "ml.m5.xlarge",
    "vcpuNum": 4
   },
   {
    "_defaultOrder": 6,
    "_isFastLaunch": false,
    "category": "General purpose",
    "gpuNum": 0,
    "hideHardwareSpecs": false,
    "memoryGiB": 32,
    "name": "ml.m5.2xlarge",
    "vcpuNum": 8
   },
   {
    "_defaultOrder": 7,
    "_isFastLaunch": false,
    "category": "General purpose",
    "gpuNum": 0,
    "hideHardwareSpecs": false,
    "memoryGiB": 64,
    "name": "ml.m5.4xlarge",
    "vcpuNum": 16
   },
   {
    "_defaultOrder": 8,
    "_isFastLaunch": false,
    "category": "General purpose",
    "gpuNum": 0,
    "hideHardwareSpecs": false,
    "memoryGiB": 128,
    "name": "ml.m5.8xlarge",
    "vcpuNum": 32
   },
   {
    "_defaultOrder": 9,
    "_isFastLaunch": false,
    "category": "General purpose",
    "gpuNum": 0,
    "hideHardwareSpecs": false,
    "memoryGiB": 192,
    "name": "ml.m5.12xlarge",
    "vcpuNum": 48
   },
   {
    "_defaultOrder": 10,
    "_isFastLaunch": false,
    "category": "General purpose",
    "gpuNum": 0,
    "hideHardwareSpecs": false,
    "memoryGiB": 256,
    "name": "ml.m5.16xlarge",
    "vcpuNum": 64
   },
   {
    "_defaultOrder": 11,
    "_isFastLaunch": false,
    "category": "General purpose",
    "gpuNum": 0,
    "hideHardwareSpecs": false,
    "memoryGiB": 384,
    "name": "ml.m5.24xlarge",
    "vcpuNum": 96
   },
   {
    "_defaultOrder": 12,
    "_isFastLaunch": false,
    "category": "General purpose",
    "gpuNum": 0,
    "hideHardwareSpecs": false,
    "memoryGiB": 8,
    "name": "ml.m5d.large",
    "vcpuNum": 2
   },
   {
    "_defaultOrder": 13,
    "_isFastLaunch": false,
    "category": "General purpose",
    "gpuNum": 0,
    "hideHardwareSpecs": false,
    "memoryGiB": 16,
    "name": "ml.m5d.xlarge",
    "vcpuNum": 4
   },
   {
    "_defaultOrder": 14,
    "_isFastLaunch": false,
    "category": "General purpose",
    "gpuNum": 0,
    "hideHardwareSpecs": false,
    "memoryGiB": 32,
    "name": "ml.m5d.2xlarge",
    "vcpuNum": 8
   },
   {
    "_defaultOrder": 15,
    "_isFastLaunch": false,
    "category": "General purpose",
    "gpuNum": 0,
    "hideHardwareSpecs": false,
    "memoryGiB": 64,
    "name": "ml.m5d.4xlarge",
    "vcpuNum": 16
   },
   {
    "_defaultOrder": 16,
    "_isFastLaunch": false,
    "category": "General purpose",
    "gpuNum": 0,
    "hideHardwareSpecs": false,
    "memoryGiB": 128,
    "name": "ml.m5d.8xlarge",
    "vcpuNum": 32
   },
   {
    "_defaultOrder": 17,
    "_isFastLaunch": false,
    "category": "General purpose",
    "gpuNum": 0,
    "hideHardwareSpecs": false,
    "memoryGiB": 192,
    "name": "ml.m5d.12xlarge",
    "vcpuNum": 48
   },
   {
    "_defaultOrder": 18,
    "_isFastLaunch": false,
    "category": "General purpose",
    "gpuNum": 0,
    "hideHardwareSpecs": false,
    "memoryGiB": 256,
    "name": "ml.m5d.16xlarge",
    "vcpuNum": 64
   },
   {
    "_defaultOrder": 19,
    "_isFastLaunch": false,
    "category": "General purpose",
    "gpuNum": 0,
    "hideHardwareSpecs": false,
    "memoryGiB": 384,
    "name": "ml.m5d.24xlarge",
    "vcpuNum": 96
   },
   {
    "_defaultOrder": 20,
    "_isFastLaunch": false,
    "category": "General purpose",
    "gpuNum": 0,
    "hideHardwareSpecs": true,
    "memoryGiB": 0,
    "name": "ml.geospatial.interactive",
    "supportedImageNames": [
     "sagemaker-geospatial-v1-0"
    ],
    "vcpuNum": 0
   },
   {
    "_defaultOrder": 21,
    "_isFastLaunch": true,
    "category": "Compute optimized",
    "gpuNum": 0,
    "hideHardwareSpecs": false,
    "memoryGiB": 4,
    "name": "ml.c5.large",
    "vcpuNum": 2
   },
   {
    "_defaultOrder": 22,
    "_isFastLaunch": false,
    "category": "Compute optimized",
    "gpuNum": 0,
    "hideHardwareSpecs": false,
    "memoryGiB": 8,
    "name": "ml.c5.xlarge",
    "vcpuNum": 4
   },
   {
    "_defaultOrder": 23,
    "_isFastLaunch": false,
    "category": "Compute optimized",
    "gpuNum": 0,
    "hideHardwareSpecs": false,
    "memoryGiB": 16,
    "name": "ml.c5.2xlarge",
    "vcpuNum": 8
   },
   {
    "_defaultOrder": 24,
    "_isFastLaunch": false,
    "category": "Compute optimized",
    "gpuNum": 0,
    "hideHardwareSpecs": false,
    "memoryGiB": 32,
    "name": "ml.c5.4xlarge",
    "vcpuNum": 16
   },
   {
    "_defaultOrder": 25,
    "_isFastLaunch": false,
    "category": "Compute optimized",
    "gpuNum": 0,
    "hideHardwareSpecs": false,
    "memoryGiB": 72,
    "name": "ml.c5.9xlarge",
    "vcpuNum": 36
   },
   {
    "_defaultOrder": 26,
    "_isFastLaunch": false,
    "category": "Compute optimized",
    "gpuNum": 0,
    "hideHardwareSpecs": false,
    "memoryGiB": 96,
    "name": "ml.c5.12xlarge",
    "vcpuNum": 48
   },
   {
    "_defaultOrder": 27,
    "_isFastLaunch": false,
    "category": "Compute optimized",
    "gpuNum": 0,
    "hideHardwareSpecs": false,
    "memoryGiB": 144,
    "name": "ml.c5.18xlarge",
    "vcpuNum": 72
   },
   {
    "_defaultOrder": 28,
    "_isFastLaunch": false,
    "category": "Compute optimized",
    "gpuNum": 0,
    "hideHardwareSpecs": false,
    "memoryGiB": 192,
    "name": "ml.c5.24xlarge",
    "vcpuNum": 96
   },
   {
    "_defaultOrder": 29,
    "_isFastLaunch": true,
    "category": "Accelerated computing",
    "gpuNum": 1,
    "hideHardwareSpecs": false,
    "memoryGiB": 16,
    "name": "ml.g4dn.xlarge",
    "vcpuNum": 4
   },
   {
    "_defaultOrder": 30,
    "_isFastLaunch": false,
    "category": "Accelerated computing",
    "gpuNum": 1,
    "hideHardwareSpecs": false,
    "memoryGiB": 32,
    "name": "ml.g4dn.2xlarge",
    "vcpuNum": 8
   },
   {
    "_defaultOrder": 31,
    "_isFastLaunch": false,
    "category": "Accelerated computing",
    "gpuNum": 1,
    "hideHardwareSpecs": false,
    "memoryGiB": 64,
    "name": "ml.g4dn.4xlarge",
    "vcpuNum": 16
   },
   {
    "_defaultOrder": 32,
    "_isFastLaunch": false,
    "category": "Accelerated computing",
    "gpuNum": 1,
    "hideHardwareSpecs": false,
    "memoryGiB": 128,
    "name": "ml.g4dn.8xlarge",
    "vcpuNum": 32
   },
   {
    "_defaultOrder": 33,
    "_isFastLaunch": false,
    "category": "Accelerated computing",
    "gpuNum": 4,
    "hideHardwareSpecs": false,
    "memoryGiB": 192,
    "name": "ml.g4dn.12xlarge",
    "vcpuNum": 48
   },
   {
    "_defaultOrder": 34,
    "_isFastLaunch": false,
    "category": "Accelerated computing",
    "gpuNum": 1,
    "hideHardwareSpecs": false,
    "memoryGiB": 256,
    "name": "ml.g4dn.16xlarge",
    "vcpuNum": 64
   },
   {
    "_defaultOrder": 35,
    "_isFastLaunch": false,
    "category": "Accelerated computing",
    "gpuNum": 1,
    "hideHardwareSpecs": false,
    "memoryGiB": 61,
    "name": "ml.p3.2xlarge",
    "vcpuNum": 8
   },
   {
    "_defaultOrder": 36,
    "_isFastLaunch": false,
    "category": "Accelerated computing",
    "gpuNum": 4,
    "hideHardwareSpecs": false,
    "memoryGiB": 244,
    "name": "ml.p3.8xlarge",
    "vcpuNum": 32
   },
   {
    "_defaultOrder": 37,
    "_isFastLaunch": false,
    "category": "Accelerated computing",
    "gpuNum": 8,
    "hideHardwareSpecs": false,
    "memoryGiB": 488,
    "name": "ml.p3.16xlarge",
    "vcpuNum": 64
   },
   {
    "_defaultOrder": 38,
    "_isFastLaunch": false,
    "category": "Accelerated computing",
    "gpuNum": 8,
    "hideHardwareSpecs": false,
    "memoryGiB": 768,
    "name": "ml.p3dn.24xlarge",
    "vcpuNum": 96
   },
   {
    "_defaultOrder": 39,
    "_isFastLaunch": false,
    "category": "Memory Optimized",
    "gpuNum": 0,
    "hideHardwareSpecs": false,
    "memoryGiB": 16,
    "name": "ml.r5.large",
    "vcpuNum": 2
   },
   {
    "_defaultOrder": 40,
    "_isFastLaunch": false,
    "category": "Memory Optimized",
    "gpuNum": 0,
    "hideHardwareSpecs": false,
    "memoryGiB": 32,
    "name": "ml.r5.xlarge",
    "vcpuNum": 4
   },
   {
    "_defaultOrder": 41,
    "_isFastLaunch": false,
    "category": "Memory Optimized",
    "gpuNum": 0,
    "hideHardwareSpecs": false,
    "memoryGiB": 64,
    "name": "ml.r5.2xlarge",
    "vcpuNum": 8
   },
   {
    "_defaultOrder": 42,
    "_isFastLaunch": false,
    "category": "Memory Optimized",
    "gpuNum": 0,
    "hideHardwareSpecs": false,
    "memoryGiB": 128,
    "name": "ml.r5.4xlarge",
    "vcpuNum": 16
   },
   {
    "_defaultOrder": 43,
    "_isFastLaunch": false,
    "category": "Memory Optimized",
    "gpuNum": 0,
    "hideHardwareSpecs": false,
    "memoryGiB": 256,
    "name": "ml.r5.8xlarge",
    "vcpuNum": 32
   },
   {
    "_defaultOrder": 44,
    "_isFastLaunch": false,
    "category": "Memory Optimized",
    "gpuNum": 0,
    "hideHardwareSpecs": false,
    "memoryGiB": 384,
    "name": "ml.r5.12xlarge",
    "vcpuNum": 48
   },
   {
    "_defaultOrder": 45,
    "_isFastLaunch": false,
    "category": "Memory Optimized",
    "gpuNum": 0,
    "hideHardwareSpecs": false,
    "memoryGiB": 512,
    "name": "ml.r5.16xlarge",
    "vcpuNum": 64
   },
   {
    "_defaultOrder": 46,
    "_isFastLaunch": false,
    "category": "Memory Optimized",
    "gpuNum": 0,
    "hideHardwareSpecs": false,
    "memoryGiB": 768,
    "name": "ml.r5.24xlarge",
    "vcpuNum": 96
   },
   {
    "_defaultOrder": 47,
    "_isFastLaunch": false,
    "category": "Accelerated computing",
    "gpuNum": 1,
    "hideHardwareSpecs": false,
    "memoryGiB": 16,
    "name": "ml.g5.xlarge",
    "vcpuNum": 4
   },
   {
    "_defaultOrder": 48,
    "_isFastLaunch": false,
    "category": "Accelerated computing",
    "gpuNum": 1,
    "hideHardwareSpecs": false,
    "memoryGiB": 32,
    "name": "ml.g5.2xlarge",
    "vcpuNum": 8
   },
   {
    "_defaultOrder": 49,
    "_isFastLaunch": false,
    "category": "Accelerated computing",
    "gpuNum": 1,
    "hideHardwareSpecs": false,
    "memoryGiB": 64,
    "name": "ml.g5.4xlarge",
    "vcpuNum": 16
   },
   {
    "_defaultOrder": 50,
    "_isFastLaunch": false,
    "category": "Accelerated computing",
    "gpuNum": 1,
    "hideHardwareSpecs": false,
    "memoryGiB": 128,
    "name": "ml.g5.8xlarge",
    "vcpuNum": 32
   },
   {
    "_defaultOrder": 51,
    "_isFastLaunch": false,
    "category": "Accelerated computing",
    "gpuNum": 1,
    "hideHardwareSpecs": false,
    "memoryGiB": 256,
    "name": "ml.g5.16xlarge",
    "vcpuNum": 64
   },
   {
    "_defaultOrder": 52,
    "_isFastLaunch": false,
    "category": "Accelerated computing",
    "gpuNum": 4,
    "hideHardwareSpecs": false,
    "memoryGiB": 192,
    "name": "ml.g5.12xlarge",
    "vcpuNum": 48
   },
   {
    "_defaultOrder": 53,
    "_isFastLaunch": false,
    "category": "Accelerated computing",
    "gpuNum": 4,
    "hideHardwareSpecs": false,
    "memoryGiB": 384,
    "name": "ml.g5.24xlarge",
    "vcpuNum": 96
   },
   {
    "_defaultOrder": 54,
    "_isFastLaunch": false,
    "category": "Accelerated computing",
    "gpuNum": 8,
    "hideHardwareSpecs": false,
    "memoryGiB": 768,
    "name": "ml.g5.48xlarge",
    "vcpuNum": 192
   },
   {
    "_defaultOrder": 55,
    "_isFastLaunch": false,
    "category": "Accelerated computing",
    "gpuNum": 8,
    "hideHardwareSpecs": false,
    "memoryGiB": 1152,
    "name": "ml.p4d.24xlarge",
    "vcpuNum": 96
   },
   {
    "_defaultOrder": 56,
    "_isFastLaunch": false,
    "category": "Accelerated computing",
    "gpuNum": 8,
    "hideHardwareSpecs": false,
    "memoryGiB": 1152,
    "name": "ml.p4de.24xlarge",
    "vcpuNum": 96
   },
   {
    "_defaultOrder": 57,
    "_isFastLaunch": false,
    "category": "Accelerated computing",
    "gpuNum": 0,
    "hideHardwareSpecs": false,
    "memoryGiB": 32,
    "name": "ml.trn1.2xlarge",
    "vcpuNum": 8
   },
   {
    "_defaultOrder": 58,
    "_isFastLaunch": false,
    "category": "Accelerated computing",
    "gpuNum": 0,
    "hideHardwareSpecs": false,
    "memoryGiB": 512,
    "name": "ml.trn1.32xlarge",
    "vcpuNum": 128
   },
   {
    "_defaultOrder": 59,
    "_isFastLaunch": false,
    "category": "Accelerated computing",
    "gpuNum": 0,
    "hideHardwareSpecs": false,
    "memoryGiB": 512,
    "name": "ml.trn1n.32xlarge",
    "vcpuNum": 128
   }
  ],
  "kernelspec": {
   "display_name": "Python 3 (Data Science 3.0)",
   "language": "python",
   "name": "python3__SAGEMAKER_INTERNAL__arn:aws:sagemaker:us-east-1:081325390199:image/sagemaker-data-science-310-v1"
  },
  "language_info": {
   "codemirror_mode": {
    "name": "ipython",
    "version": 3
   },
   "file_extension": ".py",
   "mimetype": "text/x-python",
   "name": "python",
   "nbconvert_exporter": "python",
   "pygments_lexer": "ipython3",
   "version": "3.10.6"
  },
  "toc-showcode": false
 },
 "nbformat": 4,
 "nbformat_minor": 5
}
